{
 "cells": [
  {
   "cell_type": "code",
   "execution_count": null,
   "metadata": {
    "collapsed": false
   },
   "outputs": [],
   "source": [
    "from pyspark.sql import SparkSession,  Row\n",
    "from matplotlib import pyplot as plt\n",
    "from sklearn.preprocessing import StandardScaler\n",
    "from sklearn.linear_model import ElasticNet, ElasticNetCV\n",
    "import pandas as pd\n",
    "import numpy as np\n",
    "\n",
    "pd.set_option(\"display.max_columns\", 100)\n",
    "\n",
    "input_path = '/home/jovyan/work/data/autot4.7.csv'\n",
    "\n",
    "session = SparkSession \\\n",
    "    .builder \\\n",
    "    .appName(\"Car data\") \\\n",
    "    .config('spark.driver.memory', '5G') \\\n",
    "    .config('spark.executor.memory', '5G') \\\n",
    "    .getOrCreate()\n",
    "    \n",
    "indf = session.read \\\n",
    "    .format(\"org.apache.spark.csv\") \\\n",
    "    .option(\"header\", \"true\") \\\n",
    "    .option(\"delimiter\", \";\") \\\n",
    "    .option(\"mode\", \"DROPMALFORMED\") \\\n",
    "    .csv(input_path)"
   ]
  },
  {
   "cell_type": "code",
   "execution_count": null,
   "metadata": {
    "collapsed": false
   },
   "outputs": [],
   "source": [
    "new_colnames = [col.replace('.','_',5) for col in indf.columns]\n",
    "indf = indf.toDF(*new_colnames)"
   ]
  },
  {
   "cell_type": "code",
   "execution_count": null,
   "metadata": {
    "collapsed": true
   },
   "outputs": [],
   "source": [
    "factorVars = [\n",
    "    'ajoneuvoluokka',\n",
    "    'ajoneuvonkaytto',\n",
    "    'korityyppi',\n",
    "    'ohjaamotyyppi',\n",
    "    'kayttovoima',\n",
    "    'istumapaikkojenLkm',\n",
    "    'sylintereidenLkm',\n",
    "    'vaihteisto',\n",
    "    'alue',\n",
    "    'kunta',\n",
    "    'merkki',\n",
    "    'malli',\n",
    "    'kayttoonotto_pvm_imputoitu'\n",
    "]\n",
    "numericVars = [\n",
    "    'omamassa',\n",
    "    'iskutilavuus',\n",
    "    'suurinNettoteho',\n",
    "    'matkamittarilukema',\n",
    "    'kayttoonottoVuosi',\n",
    "    'ensirekVuosi'\n",
    "]\n",
    "dateVars = [\n",
    "    'ensirekisterointipvm',\n",
    "    'kayttoonottopvm',\n",
    "    'max_date',\n",
    "    'kayttoonotto'\n",
    "]\n"
   ]
  },
  {
   "cell_type": "code",
   "execution_count": null,
   "metadata": {
    "collapsed": false
   },
   "outputs": [],
   "source": [
    "carsDf = indf.select(\n",
    "    'ajoneuvoluokka',\n",
    "    'ajoneuvonkaytto',\n",
    "    'korityyppi',\n",
    "    'ohjaamotyyppi',\n",
    "    'kayttovoima',\n",
    "    'istumapaikkojenLkm',\n",
    "    'sylintereidenLkm',\n",
    "    'vaihteisto',\n",
    "    'alue',\n",
    "    'kunta',\n",
    "    'merkki',\n",
    "    'malli',\n",
    "    'kayttoonotto_pvm_imputoitu',\n",
    "    indf['omamassa'].cast(\"int\"),\n",
    "    indf['iskutilavuus'].cast(\"int\"),\n",
    "    indf['suurinNettoteho'].cast(\"int\"),\n",
    "    indf['matkamittarilukema'].cast(\"int\"),\n",
    "    indf['kayttoonottoVuosi'].cast(\"int\"),\n",
    "    indf['ensirekVuosi'].cast(\"int\"),\n",
    "    indf['ensirekisterointipvm'].cast(\"timestamp\"),\n",
    "    indf['kayttoonottopvm'].cast(\"timestamp\"),\n",
    "    indf['max_date'].cast(\"timestamp\"),\n",
    "    indf['kayttoonotto'].cast(\"timestamp\")\n",
    ")"
   ]
  },
  {
   "cell_type": "code",
   "execution_count": null,
   "metadata": {
    "collapsed": false
   },
   "outputs": [],
   "source": [
    "carsDf.printSchema()"
   ]
  },
  {
   "cell_type": "code",
   "execution_count": null,
   "metadata": {
    "collapsed": false
   },
   "outputs": [],
   "source": [
    "carsDf = carsDf.filter(carsDf.matkamittarilukema.between(1, 1e6)).cache()"
   ]
  },
  {
   "cell_type": "code",
   "execution_count": null,
   "metadata": {
    "collapsed": false
   },
   "outputs": [],
   "source": [
    "carsDf = carsDf.withColumn(\n",
    "    'usage_days', \n",
    "    (carsDf['max_date'].cast('long')-carsDf['kayttoonottopvm'].cast('long'))/(24.0 * 3600.0)\n",
    ")\n",
    "numericVars.append('usage_days')"
   ]
  },
  {
   "cell_type": "code",
   "execution_count": null,
   "metadata": {
    "collapsed": false,
    "scrolled": true
   },
   "outputs": [],
   "source": [
    "splits = carsDf.randomSplit([0.2, 0.2, 0.6], 220274)"
   ]
  },
  {
   "cell_type": "code",
   "execution_count": null,
   "metadata": {
    "collapsed": false
   },
   "outputs": [],
   "source": [
    "modeldf = splits[0].toPandas()"
   ]
  },
  {
   "cell_type": "code",
   "execution_count": null,
   "metadata": {
    "collapsed": false
   },
   "outputs": [],
   "source": [
    "modeldf.matkamittarilukema.hist(bins=100)"
   ]
  },
  {
   "cell_type": "code",
   "execution_count": null,
   "metadata": {
    "collapsed": false
   },
   "outputs": [],
   "source": [
    "#for c in factorVars:\n",
    "#    print(modeldf.groupby(c)['matkamittarilukema'].agg([np.median, np.mean]))"
   ]
  },
  {
   "cell_type": "code",
   "execution_count": null,
   "metadata": {
    "collapsed": false
   },
   "outputs": [],
   "source": [
    "modeldf.groupby('ajoneuvonkaytto')['matkamittarilukema'].agg([np.median, np.mean, np.std])"
   ]
  },
  {
   "cell_type": "code",
   "execution_count": null,
   "metadata": {
    "collapsed": false
   },
   "outputs": [],
   "source": [
    "modeldf.plot.scatter(x='usage_days', y='matkamittarilukema')"
   ]
  },
  {
   "cell_type": "code",
   "execution_count": null,
   "metadata": {
    "collapsed": false
   },
   "outputs": [],
   "source": []
  },
  {
   "cell_type": "code",
   "execution_count": null,
   "metadata": {
    "collapsed": false
   },
   "outputs": [],
   "source": []
  },
  {
   "cell_type": "code",
   "execution_count": null,
   "metadata": {
    "collapsed": false
   },
   "outputs": [],
   "source": [
    "traindf = modeldf[numericVars]\n",
    "y = traindf.pop('matkamittarilukema')\n",
    "imputer = Imputer()\n",
    "scaler = StandardScaler()\n",
    "X_raw = imputer.fit_transform(traindf)\n",
    "X = scaler.fit_transform(X_raw)\n",
    "Xdf = pd.DataFrame(X, columns=traindf.columns)"
   ]
  },
  {
   "cell_type": "code",
   "execution_count": null,
   "metadata": {
    "collapsed": true
   },
   "outputs": [],
   "source": [
    "tmp = pd.get_dummies(modeldf['ajoneuvonkaytto'], prefix='ajoneuvonkaytto')\n",
    "Xdf[tmp.columns] = tmp"
   ]
  },
  {
   "cell_type": "code",
   "execution_count": null,
   "metadata": {
    "collapsed": false
   },
   "outputs": [],
   "source": [
    "enet = ElasticNet(alpha=1.0, l1_ratio=0.5, fit_intercept=True, normalize=False, precompute=False,\n",
    "                   max_iter=1000, copy_X=True, tol=0.0001, warm_start=False, positive=False, \n",
    "                   random_state=None, selection='cyclic')\n",
    "enet.fit(Xdf, y)"
   ]
  },
  {
   "cell_type": "code",
   "execution_count": null,
   "metadata": {
    "collapsed": false
   },
   "outputs": [],
   "source": [
    "pd.Series(enet.coef_, index=Xdf.columns)"
   ]
  },
  {
   "cell_type": "code",
   "execution_count": null,
   "metadata": {
    "collapsed": false
   },
   "outputs": [],
   "source": [
    "modeldf['prediction'] = enet.predict(Xdf)\n",
    "zz = np.array([0, modeldf.prediction.max()])\n",
    "#fig, axes = plt.subplots()\n",
    "modeldf.plot.scatter(x='prediction', y='matkamittarilukema')\n",
    "plt.plot(zz, zz, 'r-')\n",
    "plt.show()"
   ]
  }
 ],
 "metadata": {
  "kernelspec": {
   "display_name": "Python 2",
   "language": "python",
   "name": "python2"
  },
  "language_info": {
   "codemirror_mode": {
    "name": "ipython",
    "version": 2
   },
   "file_extension": ".py",
   "mimetype": "text/x-python",
   "name": "python",
   "nbconvert_exporter": "python",
   "pygments_lexer": "ipython2",
   "version": "2.7.12"
  }
 },
 "nbformat": 4,
 "nbformat_minor": 2
}
