{
 "cells": [
  {
   "cell_type": "code",
   "execution_count": null,
   "metadata": {
    "collapsed": true
   },
   "outputs": [],
   "source": [
    "import cPickle as pickle\n",
    "import pandas as pd"
   ]
  },
  {
   "cell_type": "markdown",
   "metadata": {},
   "source": [
    "## Load fitted model and relevant other data"
   ]
  },
  {
   "cell_type": "code",
   "execution_count": null,
   "metadata": {
    "collapsed": false
   },
   "outputs": [],
   "source": [
    "# read in fitted model and needed preprocessing data\n",
    "modelFname = 'enet.pyobj'\n",
    "dataFname = '/home/jovyan/work/data/autot4.7.csv'\n",
    "\n",
    "inputs = pickle.load(open(modelFname, 'rb'))\n",
    "model = inputs['model']\n",
    "imputer = inputs['imputer']\n",
    "scaler = inputs['scaler']\n",
    "trainColumns = inputs['trainColumns']\n",
    "factorVars = inputs['factorVars']\n",
    "numericVars= inputs['numericVars']\n",
    "dateVars = inputs['dateVars']\n",
    "\n",
    "# remove target variable from numeric variables\n",
    "numericVars.remove('matkamittarilukema')\n",
    "numericVars.remove('mileagePerDay')"
   ]
  },
  {
   "cell_type": "code",
   "execution_count": null,
   "metadata": {
    "collapsed": true
   },
   "outputs": [],
   "source": [
    "# read some original data\n",
    "#data = pd.read_csv(dataFname, sep=';', nrows=10)\n",
    "#for col in ['ensirekisterointipvm', 'kayttoonottopvm', 'max_date', 'kayttoonotto']:\n",
    "#    data[col] = pd.to_datetime(data[col])    \n",
    "#data['usageDays'] = (data.max_date - data.kayttoonottopvm).map(lambda x: x.days)"
   ]
  },
  {
   "cell_type": "markdown",
   "metadata": {},
   "source": [
    "### Create test case data"
   ]
  },
  {
   "cell_type": "code",
   "execution_count": null,
   "metadata": {
    "collapsed": false
   },
   "outputs": [],
   "source": [
    "factorVars"
   ]
  },
  {
   "cell_type": "code",
   "execution_count": null,
   "metadata": {
    "collapsed": false
   },
   "outputs": [],
   "source": [
    "# Create a test input for the model (same information as in original data)\n",
    "inputVector = {\n",
    "    'omamassa': 1340,\n",
    "    'iskutilavuus': 1900,\n",
    "    'suurinNettoteho': 193,\n",
    "    'kayttoonottoVuosi': 2010,\n",
    "    'ensirekVuosi': 2001,\n",
    "    'ajoneuvonkaytto': 'Yksityinen',\n",
    "    'max_date': '2016-09-30',\n",
    "    'kayttoonottopvm': '2010-06-15',\n",
    "    'ajoneuvoryhma': 'Maastoauto',\n",
    "    'kayttovoima': 'Bensiini',\n",
    "    'vaihteisto': 'Käsivalintainen'\n",
    "    \n",
    "}\n",
    "\n",
    "# Calculate same variables that were used in modeling\n",
    "inputVector['usageDays'] = (\n",
    "    pd.to_datetime(inputVector['max_date'])-pd.to_datetime(inputVector['kayttoonottopvm'])\n",
    ").days\n",
    "    \n",
    "# Encode factor variables as dummy variables\n",
    "for varName in factorVars:\n",
    "    dummyVariable = '{}_{}'.format(varName, inputVector.pop(varName, 'NA'))\n",
    "    if dummyVariable in trainColumns:\n",
    "        inputVector[dummyVariable] = 1\n",
    "inputVector"
   ]
  },
  {
   "cell_type": "markdown",
   "metadata": {},
   "source": [
    "### Preprocess input data same way as in model fitting phase"
   ]
  },
  {
   "cell_type": "code",
   "execution_count": null,
   "metadata": {
    "collapsed": false
   },
   "outputs": [],
   "source": [
    "# Formulate input vector in same way as in model fitting.\n",
    "# Note that the variables must be in same order as in model fitting\n",
    "x = pd.Series(index=trainColumns)\n",
    "\n",
    "for v in trainColumns:\n",
    "    varName = v.split('_')[0]\n",
    "    # if factor type variable is not in input value should be 0\n",
    "    if varName in factorVars:\n",
    "        x[v] = inputVector.get(v, 0)\n",
    "    else:\n",
    "        x[v] = inputVector.get(v)\n",
    "print(x)\n",
    "\n",
    "# Impute missing values exactly same way as in model fitting\n",
    "# input vector to imputer must be numpy array (=> .values.reshape(1, -1))\n",
    "xtmp = imputer.transform(x[numericVars].values.reshape(1, -1))\n",
    "\n",
    "# Scale numeric variables exactly same way as in model fitting\n",
    "xtmp = scaler.transform(xtmp)\n",
    "\n",
    "# put imputed and scaled variables back to input vector\n",
    "x[inputs['numericVars']] = xtmp[0]\n",
    "print(x)"
   ]
  },
  {
   "cell_type": "markdown",
   "metadata": {},
   "source": [
    "### Make a prediction"
   ]
  },
  {
   "cell_type": "code",
   "execution_count": null,
   "metadata": {
    "collapsed": false
   },
   "outputs": [],
   "source": [
    "# Make prediction with the fitted model\n",
    "# input vector to imputer must be numpy array (=> .values.reshape(1, -1))\n",
    "model.predict(x.values.reshape(1, -1))[0]"
   ]
  }
 ],
 "metadata": {
  "kernelspec": {
   "display_name": "Python 2",
   "language": "python",
   "name": "python2"
  },
  "language_info": {
   "codemirror_mode": {
    "name": "ipython",
    "version": 2
   },
   "file_extension": ".py",
   "mimetype": "text/x-python",
   "name": "python",
   "nbconvert_exporter": "python",
   "pygments_lexer": "ipython2",
   "version": "2.7.12"
  }
 },
 "nbformat": 4,
 "nbformat_minor": 2
}
