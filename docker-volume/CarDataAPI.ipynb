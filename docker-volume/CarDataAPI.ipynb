{
 "cells": [
  {
   "cell_type": "code",
   "execution_count": null,
   "metadata": {
    "collapsed": false
   },
   "outputs": [],
   "source": [
    "from flask import Flask, abort, request, jsonify\n",
    "import cPickle as pickle\n",
    "import numpy as np\n",
    "import pandas as pd\n"
   ]
  },
  {
   "cell_type": "code",
   "execution_count": null,
   "metadata": {
    "collapsed": false
   },
   "outputs": [],
   "source": [
    "# read in fitted model and needed preprocessing data\n",
    "modelFname = 'enet.pyobj'\n",
    "dataFname = '/home/jovyan/work/data/autot4.7.csv'\n",
    "\n",
    "inputs = pickle.load(open(modelFname, 'rb'))\n",
    "model = inputs['model']\n",
    "imputer = inputs['imputer']\n",
    "scaler = inputs['scaler']\n",
    "trainColumns = inputs['trainColumns']\n",
    "factorVars = inputs['factorVars']\n",
    "numericVars= inputs['numericVars']\n",
    "dateVars = inputs['dateVars']\n",
    "\n",
    "# remove target variable from numeric variables\n",
    "numericVars.remove('matkamittarilukema')\n",
    "numericVars.remove('mileagePerDay')"
   ]
  },
  {
   "cell_type": "code",
   "execution_count": null,
   "metadata": {
    "collapsed": false
   },
   "outputs": [],
   "source": [
    "def format_input_data(inputVector):\n",
    "    if inputVector.has_key('max_date') and inputVector.has_key('kayttoonottopvm'):\n",
    "        usageTime = pd.to_datetime(inputVector['max_date'])-pd.to_datetime(inputVector['kayttoonottopvm'])\n",
    "        inputVector['usageDays'] = usageTime.days\n",
    "    else:\n",
    "        inputVector['usageDays'] = np.nan\n",
    "    \n",
    "    for varName in factorVars:\n",
    "        dummyVariable = '{}_{}'.format(varName, inputVector.pop(varName, 'NA'))\n",
    "        if dummyVariable in trainColumns:\n",
    "            inputVector[dummyVariable] = 1\n",
    "    x = pd.Series(index=trainColumns)\n",
    "\n",
    "    for v in trainColumns:\n",
    "        varName = v.split('_')[0]\n",
    "        if varName in factorVars:\n",
    "            x[v] = inputVector.get(v, 0)\n",
    "        else:\n",
    "            \n",
    "            x[v] = inputVector.get(v)\n",
    "    return x\n",
    "\n",
    "def impute_scale_input_data(x):\n",
    "    xtmp = imputer.transform(x[numericVars].values.reshape(1, -1))\n",
    "    xtmp = scaler.transform(xtmp)\n",
    "    x[numericVars] = xtmp[0]\n",
    "    return x\n",
    "\n",
    "def parse_args(args):\n",
    "    parsed = {}\n",
    "    for key, value in args.iteritems():\n",
    "        if key in numericVars:\n",
    "            parsed[key] = args.get(key, type=np.float, default=np.nan)\n",
    "        else:\n",
    "            parsed[key] = args.get(key)\n",
    "    return parsed"
   ]
  },
  {
   "cell_type": "code",
   "execution_count": null,
   "metadata": {
    "collapsed": true
   },
   "outputs": [],
   "source": [
    "app = Flask(__name__)\n",
    "\n",
    "@app.route('/mileage')\n",
    "def mileage():\n",
    "    parsed = parse_args(request.args)\n",
    "    formatted = format_input_data(parsed)\n",
    "    scaled = impute_scale_input_data(formatted)\n",
    "    response = {\n",
    "        'estimate': model.predict(scaled.values.reshape(1, -1))[0]\n",
    "    } \n",
    "    return jsonify(response)"
   ]
  },
  {
   "cell_type": "code",
   "execution_count": null,
   "metadata": {
    "collapsed": false
   },
   "outputs": [],
   "source": [
    "app.run(host='0.0.0.0')"
   ]
  }
 ],
 "metadata": {
  "kernelspec": {
   "display_name": "Python 2",
   "language": "python",
   "name": "python2"
  },
  "language_info": {
   "codemirror_mode": {
    "name": "ipython",
    "version": 2
   },
   "file_extension": ".py",
   "mimetype": "text/x-python",
   "name": "python",
   "nbconvert_exporter": "python",
   "pygments_lexer": "ipython2",
   "version": "2.7.12"
  }
 },
 "nbformat": 4,
 "nbformat_minor": 2
}
