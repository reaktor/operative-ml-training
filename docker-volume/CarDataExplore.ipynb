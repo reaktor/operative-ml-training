{
 "cells": [
  {
   "cell_type": "markdown",
   "metadata": {},
   "source": [
    "## Setup and data read"
   ]
  },
  {
   "cell_type": "code",
   "execution_count": null,
   "metadata": {
    "collapsed": false
   },
   "outputs": [],
   "source": [
    "# Imports and parameter setting\n",
    "from pyspark.sql import SparkSession,  Row\n",
    "from matplotlib import pyplot as plt\n",
    "import seaborn as sns\n",
    "from sklearn.preprocessing import StandardScaler, Imputer\n",
    "from sklearn.linear_model import ElasticNet, ElasticNetCV\n",
    "from sklearn.metrics import mean_squared_error\n",
    "from sklearn import ensemble\n",
    "\n",
    "import pandas as pd\n",
    "import numpy as np\n",
    "import cPickle as pickle\n",
    "\n",
    "pd.set_option(\"display.max_columns\", 100)\n",
    "\n",
    "inputPath = '/home/jovyan/work/data/autot4.7.csv'\n",
    "\n",
    "# Create a spark session\n",
    "session = SparkSession \\\n",
    "    .builder \\\n",
    "    .appName(\"Car data\") \\\n",
    "    .config('spark.driver.memory', '5G') \\\n",
    "    .config('spark.executor.memory', '5G') \\\n",
    "    .getOrCreate()\n",
    "    \n"
   ]
  },
  {
   "cell_type": "code",
   "execution_count": null,
   "metadata": {
    "collapsed": false
   },
   "outputs": [],
   "source": [
    "# Read input data into a spark data frame\n",
    "# remove . from column names\n",
    "inDf = session.read \\\n",
    "    .format(\"org.apache.spark.csv\") \\\n",
    "    .option(\"header\", \"true\") \\\n",
    "    .option(\"delimiter\", \";\") \\\n",
    "    .option(\"mode\", \"DROPMALFORMED\") \\\n",
    "    .csv(inputPath)\n",
    "    \n",
    "newColnames = [col.replace('.','_',5) for col in inDf.columns]\n",
    "inDf = inDf.toDF(*newColnames)"
   ]
  },
  {
   "cell_type": "code",
   "execution_count": null,
   "metadata": {
    "collapsed": false
   },
   "outputs": [],
   "source": [
    "inDf.printSchema()"
   ]
  },
  {
   "cell_type": "code",
   "execution_count": null,
   "metadata": {
    "collapsed": false
   },
   "outputs": [],
   "source": [
    "inDf.first().asDict()"
   ]
  },
  {
   "cell_type": "code",
   "execution_count": null,
   "metadata": {
    "collapsed": false
   },
   "outputs": [],
   "source": [
    "#Select a subset of columns and set their types \n",
    "carsDf = inDf.select(\n",
    "    'ajoneuvoluokka',\n",
    "    'ajoneuvonkaytto',\n",
    "    'ajoneuvoryhma',\n",
    "    'korityyppi',\n",
    "    'ohjaamotyyppi',\n",
    "    'kayttovoima',\n",
    "    'istumapaikkojenLkm',\n",
    "    'sylintereidenLkm',\n",
    "    'vaihteisto',\n",
    "    'alue',\n",
    "    'kunta',\n",
    "    'merkki',\n",
    "    'malli',\n",
    "    'merkki_l_malli',\n",
    "    'kayttoonotto_pvm_imputoitu',\n",
    "    inDf['omamassa'].cast(\"int\"),\n",
    "    inDf['iskutilavuus'].cast(\"int\"),\n",
    "    inDf['suurinNettoteho'].cast(\"int\"),\n",
    "    inDf['matkamittarilukema'].cast(\"int\"),\n",
    "    inDf['kayttoonottoVuosi'].cast(\"int\"),\n",
    "    inDf['ensirekVuosi'].cast(\"int\"),\n",
    "    inDf['ensirekisterointipvm'].cast(\"timestamp\"),\n",
    "    inDf['kayttoonottopvm'].cast(\"timestamp\"),\n",
    "    inDf['max_date'].cast(\"timestamp\"),\n",
    "    inDf['kayttoonotto'].cast(\"timestamp\")\n",
    ")\n",
    "# List of variables by types strings are called 'factors'\n",
    "factorVars = [\n",
    "    'ajoneuvoluokka',\n",
    "    'ajoneuvonkaytto',\n",
    "    'ajoneuvoryhma',\n",
    "    'korityyppi',\n",
    "    'ohjaamotyyppi',\n",
    "    'kayttovoima',\n",
    "    'istumapaikkojenLkm',\n",
    "    'sylintereidenLkm',\n",
    "    'vaihteisto',\n",
    "    'alue',\n",
    "    'kunta',\n",
    "    'merkki',\n",
    "    'malli',\n",
    "    'merkki_l_malli',\n",
    "    'kayttoonotto_pvm_imputoitu'\n",
    "]\n",
    "numericVars = [\n",
    "    'omamassa',\n",
    "    'iskutilavuus',\n",
    "    'suurinNettoteho',\n",
    "    'matkamittarilukema',\n",
    "    'kayttoonottoVuosi',\n",
    "    'ensirekVuosi'\n",
    "]\n",
    "dateVars = [\n",
    "    'ensirekisterointipvm',\n",
    "    'kayttoonottopvm',\n",
    "    'max_date',\n",
    "    'kayttoonotto'\n",
    "]\n"
   ]
  },
  {
   "cell_type": "code",
   "execution_count": null,
   "metadata": {
    "collapsed": false
   },
   "outputs": [],
   "source": [
    "carsDf.printSchema()"
   ]
  },
  {
   "cell_type": "code",
   "execution_count": null,
   "metadata": {
    "collapsed": false
   },
   "outputs": [],
   "source": [
    "carsDf.first().asDict()"
   ]
  },
  {
   "cell_type": "code",
   "execution_count": null,
   "metadata": {
    "collapsed": false
   },
   "outputs": [],
   "source": [
    "# We want to predict mileage (matkamittarilukema), filter to only possible values\n",
    "# Persist this set to memory\n",
    "carsDf = carsDf.filter(carsDf.matkamittarilukema.between(1, 1e6)).cache()"
   ]
  },
  {
   "cell_type": "code",
   "execution_count": null,
   "metadata": {
    "collapsed": false
   },
   "outputs": [],
   "source": [
    "# Calculate a new columns from originals.\n",
    "carsDf = carsDf.withColumn(\n",
    "    'usageDays', \n",
    "    (carsDf['max_date'].cast('long')-carsDf['kayttoonottopvm'].cast('long'))/(24.0 * 3600.0)\n",
    ")\n",
    "numericVars.append('usageDays')\n",
    "\n",
    "carsDf = carsDf.withColumn(\n",
    "    'mileagePerDay', \n",
    "    carsDf['matkamittarilukema'].cast('float')/carsDf['usageDays']\n",
    ")\n",
    "numericVars.append('mileagePerDay')"
   ]
  },
  {
   "cell_type": "markdown",
   "metadata": {},
   "source": [
    "## Exploration"
   ]
  },
  {
   "cell_type": "markdown",
   "metadata": {},
   "source": [
    "### pro-tip\n",
    "write ? after a function or method and run cell to see its documentation\n",
    "```python \n",
    "carsDf.sample?\n",
    "```\n",
    "    "
   ]
  },
  {
   "cell_type": "code",
   "execution_count": null,
   "metadata": {
    "collapsed": true
   },
   "outputs": [],
   "source": [
    "# take a sample into pandas data frame for plotting and stats\n",
    "sample = carsDf.sample(False, 0.005).toPandas()"
   ]
  },
  {
   "cell_type": "markdown",
   "metadata": {},
   "source": [
    "### Print samples & stats"
   ]
  },
  {
   "cell_type": "code",
   "execution_count": null,
   "metadata": {
    "collapsed": false
   },
   "outputs": [],
   "source": [
    "sample.head()"
   ]
  },
  {
   "cell_type": "code",
   "execution_count": null,
   "metadata": {
    "collapsed": false
   },
   "outputs": [],
   "source": [
    "sample.kayttoonotto.head()"
   ]
  },
  {
   "cell_type": "code",
   "execution_count": null,
   "metadata": {
    "collapsed": false
   },
   "outputs": [],
   "source": [
    "sample.describe(include=[np.number])"
   ]
  },
  {
   "cell_type": "code",
   "execution_count": null,
   "metadata": {
    "collapsed": false
   },
   "outputs": [],
   "source": [
    "sample.describe(include=[object])"
   ]
  },
  {
   "cell_type": "code",
   "execution_count": null,
   "metadata": {
    "collapsed": false
   },
   "outputs": [],
   "source": [
    "sample.describe(include=[np.datetime64])"
   ]
  },
  {
   "cell_type": "code",
   "execution_count": null,
   "metadata": {
    "collapsed": false
   },
   "outputs": [],
   "source": [
    "sample.groupby('ajoneuvonkaytto')['mileagePerDay'].agg([np.median, np.mean, np.std])"
   ]
  },
  {
   "cell_type": "markdown",
   "metadata": {},
   "source": [
    "### Some plots"
   ]
  },
  {
   "cell_type": "code",
   "execution_count": null,
   "metadata": {
    "collapsed": false,
    "scrolled": false
   },
   "outputs": [],
   "source": [
    "fig, axes = plt.subplots(len(factorVars), figsize=(15,len(factorVars)*5))\n",
    "for i, c in enumerate(factorVars):\n",
    "    sns.countplot(y=c, data=sample, ax=axes[i])\n",
    "    #plt.show()\n",
    "    #sample[c].value_counts().plot(ax=axes,kind='bar', alpha=0.7)\n",
    "    #plt.suptitle(c)"
   ]
  },
  {
   "cell_type": "code",
   "execution_count": null,
   "metadata": {
    "collapsed": false,
    "scrolled": false
   },
   "outputs": [],
   "source": [
    "fig, axes = plt.subplots(len(factorVars), figsize=(15,len(factorVars)*5))\n",
    "for i, c in enumerate(factorVars):\n",
    "    sns.boxplot(y=c, x='mileagePerDay', orient='h', data=sample, ax=axes[i])\n"
   ]
  },
  {
   "cell_type": "code",
   "execution_count": null,
   "metadata": {
    "collapsed": false,
    "scrolled": false
   },
   "outputs": [],
   "source": [
    "fig, axes = plt.subplots(len(factorVars), figsize=(15,len(factorVars)*5))\n",
    "for i, c in enumerate(factorVars):\n",
    "    sns.boxplot(y=c, x='mileagePerDay', orient='h', data=sample, ax=axes[i])\n"
   ]
  },
  {
   "cell_type": "code",
   "execution_count": null,
   "metadata": {
    "collapsed": false,
    "scrolled": false
   },
   "outputs": [],
   "source": [
    "for c in numericVars:\n",
    "    fig, axes = plt.subplots()\n",
    "    sns.distplot(sample[c].dropna())\n",
    "    plt.show()"
   ]
  },
  {
   "cell_type": "code",
   "execution_count": null,
   "metadata": {
    "collapsed": false,
    "scrolled": false
   },
   "outputs": [],
   "source": [
    "for c in numericVars:\n",
    "    sns.lmplot(x=c, y='mileagePerDay', data=sample, robust=False)\n",
    "    plt.show()\n"
   ]
  },
  {
   "cell_type": "code",
   "execution_count": null,
   "metadata": {
    "collapsed": false,
    "scrolled": true
   },
   "outputs": [],
   "source": [
    "for c in dateVars:\n",
    "    fig, axes = plt.subplots()\n",
    "    sample[c].hist(bins=100, alpha=0.7)\n",
    "    plt.suptitle(c)"
   ]
  },
  {
   "cell_type": "code",
   "execution_count": null,
   "metadata": {
    "collapsed": false
   },
   "outputs": [],
   "source": [
    "sns.jointplot(x='usageDays', y='matkamittarilukema', data=sample, kind='reg')"
   ]
  }
 ],
 "metadata": {
  "kernelspec": {
   "display_name": "Python 2",
   "language": "python",
   "name": "python2"
  },
  "language_info": {
   "codemirror_mode": {
    "name": "ipython",
    "version": 2
   },
   "file_extension": ".py",
   "mimetype": "text/x-python",
   "name": "python",
   "nbconvert_exporter": "python",
   "pygments_lexer": "ipython2",
   "version": "2.7.12"
  }
 },
 "nbformat": 4,
 "nbformat_minor": 2
}
