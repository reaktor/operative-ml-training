{
 "cells": [
  {
   "cell_type": "code",
   "execution_count": 1,
   "metadata": {
    "collapsed": false
   },
   "outputs": [
    {
     "name": "stderr",
     "output_type": "stream",
     "text": [
      "Warning message:\n",
      "“package ‘dplyr’ was built under R version 3.3.2”\n",
      "Attaching package: ‘dplyr’\n",
      "\n",
      "The following objects are masked from ‘package:stats’:\n",
      "\n",
      "    filter, lag\n",
      "\n",
      "The following objects are masked from ‘package:base’:\n",
      "\n",
      "    intersect, setdiff, setequal, union\n",
      "\n",
      "Warning message:\n",
      "“package ‘ggplot2’ was built under R version 3.3.2”Warning message:\n",
      "“package ‘glmnet’ was built under R version 3.3.2”Loading required package: Matrix\n",
      "Loading required package: foreach\n",
      "Warning message:\n",
      "“package ‘foreach’ was built under R version 3.3.2”Loaded glmnet 2.0-5\n",
      "\n"
     ]
    }
   ],
   "source": [
    "# Lets load some libraries and car data and precalculated features\n",
    "library(dplyr)\n",
    "library(ggplot2)\n",
    "library(glmnet)\n",
    "library(corrplot)\n",
    "\n",
    "load(\"data/trafi.RData\"); \n",
    "kori.class <- class"
   ]
  },
  {
   "cell_type": "code",
   "execution_count": 5,
   "metadata": {
    "collapsed": false
   },
   "outputs": [
    {
     "data": {
      "text/html": [
       "<table>\n",
       "<thead><tr><th scope=col>ryhma</th><th scope=col>merkki</th><th scope=col>malli</th><th scope=col>mallimerkinta</th><th scope=col>kori.orig</th><th scope=col>kori.est</th><th scope=col>kayttoonottoVuosi</th></tr></thead>\n",
       "<tbody>\n",
       "\t<tr><td>Henkilö                                   </td><td>VOLKSWAGEN                                </td><td>PASSAT                                    </td><td>5D PASSAT VARIANT 1.8 CL-351-C/263        </td><td>Farmari                                   </td><td>Farmari                                   </td><td>1997                                      </td></tr>\n",
       "\t<tr><td>Henkilö                                   </td><td>FORD                                      </td><td>FIESTA                                    </td><td>2D FIESTA 1.1-FBD/2280                    </td><td>NA                                        </td><td>Viistoperä                                </td><td>1984                                      </td></tr>\n",
       "\t<tr><td>Henkilö                                   </td><td>CITROEN                                   </td><td>BX                                        </td><td>4D SEDAN BX 19 GTI-XBEY/2650              </td><td>NA                                        </td><td>Sedan                                     </td><td>1990                                      </td></tr>\n",
       "\t<tr><td>Henkilö                                   </td><td>RENAULT                                   </td><td>CLIO                                      </td><td>2D CLIO HATCHBACK 1.2-CB0FCF/247          </td><td>Viistoperä                                </td><td>Viistoperä                                </td><td>2003                                      </td></tr>\n",
       "\t<tr><td>Henkilö                                   </td><td>HONDA                                     </td><td>ACCORD                                    </td><td>4D ACCORD SEDAN 2.0-CL75/268              </td><td>Sedan                                     </td><td>Sedan                                     </td><td>2003                                      </td></tr>\n",
       "\t<tr><td>Henkilö                                   </td><td>TOYOTA                                    </td><td>COROLLA                                   </td><td>5D COROLLA STW 1.6-ZZE121L-DWMNKW/260     </td><td>Farmari                                   </td><td>Farmari                                   </td><td>2006                                      </td></tr>\n",
       "\t<tr><td>Henkilö                                   </td><td>TOYOTA                                    </td><td>RAV4                                      </td><td>5D RAV4 MPV 2.2 D-4D-ALA30L-AWFGYW-4X4/256</td><td>Monikäyttö                                </td><td>Monikäyttö                                </td><td>2007                                      </td></tr>\n",
       "\t<tr><td>Henkilö                                   </td><td>NISSAN                                    </td><td>PRIMERA                                   </td><td>4D PRIMERA 1.6I FANTASY-BAAP10/255        </td><td>NA                                        </td><td>Sedan                                     </td><td>1996                                      </td></tr>\n",
       "\t<tr><td>Henkilö                                   </td><td>HONDA                                     </td><td>ACCORD                                    </td><td>5D ACCORD TOURER 2.0-CM17/272             </td><td>Monikäyttö                                </td><td>Monikäyttö                                </td><td>2003                                      </td></tr>\n",
       "\t<tr><td>Henkilö                                   </td><td>NISSAN                                    </td><td>ALMERA                                    </td><td>4D ALMERA 1.6 HATCHBACK-FCAN15/254        </td><td>Viistoperä                                </td><td>Viistoperä                                </td><td>2000                                      </td></tr>\n",
       "\t<tr><td>Henkilö                                   </td><td>BMW                                       </td><td>318                                       </td><td>4D 318I SEDAN-VA51/276                    </td><td>Sedan                                     </td><td>Sedan                                     </td><td>2005                                      </td></tr>\n",
       "\t<tr><td>Maasto                                    </td><td>HYUNDAI                                   </td><td>SANTA FE                                  </td><td>5D SANTA FE STW 2.4-S-81BP-4X4/262        </td><td>NA                                        </td><td>Monikäyttö                                </td><td>2001                                      </td></tr>\n",
       "\t<tr><td>Museo                                     </td><td>FORD                                      </td><td>CONSUL                                    </td><td>4D CONSUL CORTINA 114E/2490-63            </td><td>NA                                        </td><td>Sedan                                     </td><td>1963                                      </td></tr>\n",
       "\t<tr><td>Henkilö                                   </td><td>RENAULT                                   </td><td>MEGANE                                    </td><td>5D MEGANE BREAK 1.6 16V-KM0C0H/269        </td><td>Farmari                                   </td><td>Farmari                                   </td><td>2003                                      </td></tr>\n",
       "\t<tr><td>Henkilö                                   </td><td>VOLKSWAGEN                                </td><td>POLO                                      </td><td>2D POLO HATCHBACK 1.9TDI-9N/245           </td><td>NA                                        </td><td>Viistoperä                                </td><td>2003                                      </td></tr>\n",
       "\t<tr><td>Henkilö                                   </td><td>VOLVO                                     </td><td>V70                                       </td><td>5D V70 STW 2.4 D5 AUTOMATIC-SW7999-00/276 </td><td>NA                                        </td><td>Farmari                                   </td><td>2004                                      </td></tr>\n",
       "\t<tr><td>Henkilö                                   </td><td>VOLKSWAGEN                                </td><td>POLO                                      </td><td>4D POLO-CLASSIC-1.4-6K/244                </td><td>Sedan                                     </td><td>Sedan                                     </td><td>1998                                      </td></tr>\n",
       "\t<tr><td>Henkilö                                   </td><td>OPEL                                      </td><td>ASTRA                                     </td><td>5D ASTRA CARAVAN 2.0DT-TGF35/261          </td><td>Farmari                                   </td><td>Farmari                                   </td><td>1999                                      </td></tr>\n",
       "\t<tr><td>Henkilö                                   </td><td>OPEL                                      </td><td>ASTRA                                     </td><td>5D ASTRA CARAVAN 1.6-TGF35/261            </td><td>Farmari                                   </td><td>Farmari                                   </td><td>1999                                      </td></tr>\n",
       "\t<tr><td>Henkilö                                   </td><td>OPEL                                      </td><td>OMEGA                                     </td><td>5D OMEGA 2.0-GL-B-CARAVAN-21              </td><td>NA                                        </td><td>Farmari                                   </td><td>1996                                      </td></tr>\n",
       "</tbody>\n",
       "</table>\n"
      ],
      "text/latex": [
       "\\begin{tabular}{r|lllllll}\n",
       " ryhma & merkki & malli & mallimerkinta & kori.orig & kori.est & kayttoonottoVuosi\\\\\n",
       "\\hline\n",
       "\t Henkilö                                    & VOLKSWAGEN                                 & PASSAT                                     & 5D PASSAT VARIANT 1.8 CL-351-C/263         & Farmari                                    & Farmari                                    & 1997                                      \\\\\n",
       "\t Henkilö                                    & FORD                                       & FIESTA                                     & 2D FIESTA 1.1-FBD/2280                     & NA                                         & Viistoperä                                 & 1984                                      \\\\\n",
       "\t Henkilö                                    & CITROEN                                    & BX                                         & 4D SEDAN BX 19 GTI-XBEY/2650               & NA                                         & Sedan                                      & 1990                                      \\\\\n",
       "\t Henkilö                                    & RENAULT                                    & CLIO                                       & 2D CLIO HATCHBACK 1.2-CB0FCF/247           & Viistoperä                                 & Viistoperä                                 & 2003                                      \\\\\n",
       "\t Henkilö                                    & HONDA                                      & ACCORD                                     & 4D ACCORD SEDAN 2.0-CL75/268               & Sedan                                      & Sedan                                      & 2003                                      \\\\\n",
       "\t Henkilö                                    & TOYOTA                                     & COROLLA                                    & 5D COROLLA STW 1.6-ZZE121L-DWMNKW/260      & Farmari                                    & Farmari                                    & 2006                                      \\\\\n",
       "\t Henkilö                                    & TOYOTA                                     & RAV4                                       & 5D RAV4 MPV 2.2 D-4D-ALA30L-AWFGYW-4X4/256 & Monikäyttö                                 & Monikäyttö                                 & 2007                                      \\\\\n",
       "\t Henkilö                                    & NISSAN                                     & PRIMERA                                    & 4D PRIMERA 1.6I FANTASY-BAAP10/255         & NA                                         & Sedan                                      & 1996                                      \\\\\n",
       "\t Henkilö                                    & HONDA                                      & ACCORD                                     & 5D ACCORD TOURER 2.0-CM17/272              & Monikäyttö                                 & Monikäyttö                                 & 2003                                      \\\\\n",
       "\t Henkilö                                    & NISSAN                                     & ALMERA                                     & 4D ALMERA 1.6 HATCHBACK-FCAN15/254         & Viistoperä                                 & Viistoperä                                 & 2000                                      \\\\\n",
       "\t Henkilö                                    & BMW                                        & 318                                        & 4D 318I SEDAN-VA51/276                     & Sedan                                      & Sedan                                      & 2005                                      \\\\\n",
       "\t Maasto                                     & HYUNDAI                                    & SANTA FE                                   & 5D SANTA FE STW 2.4-S-81BP-4X4/262         & NA                                         & Monikäyttö                                 & 2001                                      \\\\\n",
       "\t Museo                                      & FORD                                       & CONSUL                                     & 4D CONSUL CORTINA 114E/2490-63             & NA                                         & Sedan                                      & 1963                                      \\\\\n",
       "\t Henkilö                                    & RENAULT                                    & MEGANE                                     & 5D MEGANE BREAK 1.6 16V-KM0C0H/269         & Farmari                                    & Farmari                                    & 2003                                      \\\\\n",
       "\t Henkilö                                    & VOLKSWAGEN                                 & POLO                                       & 2D POLO HATCHBACK 1.9TDI-9N/245            & NA                                         & Viistoperä                                 & 2003                                      \\\\\n",
       "\t Henkilö                                    & VOLVO                                      & V70                                        & 5D V70 STW 2.4 D5 AUTOMATIC-SW7999-00/276  & NA                                         & Farmari                                    & 2004                                      \\\\\n",
       "\t Henkilö                                    & VOLKSWAGEN                                 & POLO                                       & 4D POLO-CLASSIC-1.4-6K/244                 & Sedan                                      & Sedan                                      & 1998                                      \\\\\n",
       "\t Henkilö                                    & OPEL                                       & ASTRA                                      & 5D ASTRA CARAVAN 2.0DT-TGF35/261           & Farmari                                    & Farmari                                    & 1999                                      \\\\\n",
       "\t Henkilö                                    & OPEL                                       & ASTRA                                      & 5D ASTRA CARAVAN 1.6-TGF35/261             & Farmari                                    & Farmari                                    & 1999                                      \\\\\n",
       "\t Henkilö                                    & OPEL                                       & OMEGA                                      & 5D OMEGA 2.0-GL-B-CARAVAN-21               & NA                                         & Farmari                                    & 1996                                      \\\\\n",
       "\\end{tabular}\n"
      ],
      "text/markdown": [
       "\n",
       "ryhma | merkki | malli | mallimerkinta | kori.orig | kori.est | kayttoonottoVuosi | \n",
       "|---|---|---|---|---|---|---|---|---|---|---|---|---|---|---|---|---|---|---|---|\n",
       "| Henkilö                                    | VOLKSWAGEN                                 | PASSAT                                     | 5D PASSAT VARIANT 1.8 CL-351-C/263         | Farmari                                    | Farmari                                    | 1997                                       | \n",
       "| Henkilö                                    | FORD                                       | FIESTA                                     | 2D FIESTA 1.1-FBD/2280                     | NA                                         | Viistoperä                                 | 1984                                       | \n",
       "| Henkilö                                    | CITROEN                                    | BX                                         | 4D SEDAN BX 19 GTI-XBEY/2650               | NA                                         | Sedan                                      | 1990                                       | \n",
       "| Henkilö                                    | RENAULT                                    | CLIO                                       | 2D CLIO HATCHBACK 1.2-CB0FCF/247           | Viistoperä                                 | Viistoperä                                 | 2003                                       | \n",
       "| Henkilö                                    | HONDA                                      | ACCORD                                     | 4D ACCORD SEDAN 2.0-CL75/268               | Sedan                                      | Sedan                                      | 2003                                       | \n",
       "| Henkilö                                    | TOYOTA                                     | COROLLA                                    | 5D COROLLA STW 1.6-ZZE121L-DWMNKW/260      | Farmari                                    | Farmari                                    | 2006                                       | \n",
       "| Henkilö                                    | TOYOTA                                     | RAV4                                       | 5D RAV4 MPV 2.2 D-4D-ALA30L-AWFGYW-4X4/256 | Monikäyttö                                 | Monikäyttö                                 | 2007                                       | \n",
       "| Henkilö                                    | NISSAN                                     | PRIMERA                                    | 4D PRIMERA 1.6I FANTASY-BAAP10/255         | NA                                         | Sedan                                      | 1996                                       | \n",
       "| Henkilö                                    | HONDA                                      | ACCORD                                     | 5D ACCORD TOURER 2.0-CM17/272              | Monikäyttö                                 | Monikäyttö                                 | 2003                                       | \n",
       "| Henkilö                                    | NISSAN                                     | ALMERA                                     | 4D ALMERA 1.6 HATCHBACK-FCAN15/254         | Viistoperä                                 | Viistoperä                                 | 2000                                       | \n",
       "| Henkilö                                    | BMW                                        | 318                                        | 4D 318I SEDAN-VA51/276                     | Sedan                                      | Sedan                                      | 2005                                       | \n",
       "| Maasto                                     | HYUNDAI                                    | SANTA FE                                   | 5D SANTA FE STW 2.4-S-81BP-4X4/262         | NA                                         | Monikäyttö                                 | 2001                                       | \n",
       "| Museo                                      | FORD                                       | CONSUL                                     | 4D CONSUL CORTINA 114E/2490-63             | NA                                         | Sedan                                      | 1963                                       | \n",
       "| Henkilö                                    | RENAULT                                    | MEGANE                                     | 5D MEGANE BREAK 1.6 16V-KM0C0H/269         | Farmari                                    | Farmari                                    | 2003                                       | \n",
       "| Henkilö                                    | VOLKSWAGEN                                 | POLO                                       | 2D POLO HATCHBACK 1.9TDI-9N/245            | NA                                         | Viistoperä                                 | 2003                                       | \n",
       "| Henkilö                                    | VOLVO                                      | V70                                        | 5D V70 STW 2.4 D5 AUTOMATIC-SW7999-00/276  | NA                                         | Farmari                                    | 2004                                       | \n",
       "| Henkilö                                    | VOLKSWAGEN                                 | POLO                                       | 4D POLO-CLASSIC-1.4-6K/244                 | Sedan                                      | Sedan                                      | 1998                                       | \n",
       "| Henkilö                                    | OPEL                                       | ASTRA                                      | 5D ASTRA CARAVAN 2.0DT-TGF35/261           | Farmari                                    | Farmari                                    | 1999                                       | \n",
       "| Henkilö                                    | OPEL                                       | ASTRA                                      | 5D ASTRA CARAVAN 1.6-TGF35/261             | Farmari                                    | Farmari                                    | 1999                                       | \n",
       "| Henkilö                                    | OPEL                                       | OMEGA                                      | 5D OMEGA 2.0-GL-B-CARAVAN-21               | NA                                         | Farmari                                    | 1996                                       | \n",
       "\n",
       "\n"
      ],
      "text/plain": [
       "   ryhma   merkki     malli    mallimerkinta                             \n",
       "1  Henkilö VOLKSWAGEN PASSAT   5D PASSAT VARIANT 1.8 CL-351-C/263        \n",
       "2  Henkilö FORD       FIESTA   2D FIESTA 1.1-FBD/2280                    \n",
       "3  Henkilö CITROEN    BX       4D SEDAN BX 19 GTI-XBEY/2650              \n",
       "4  Henkilö RENAULT    CLIO     2D CLIO HATCHBACK 1.2-CB0FCF/247          \n",
       "5  Henkilö HONDA      ACCORD   4D ACCORD SEDAN 2.0-CL75/268              \n",
       "6  Henkilö TOYOTA     COROLLA  5D COROLLA STW 1.6-ZZE121L-DWMNKW/260     \n",
       "7  Henkilö TOYOTA     RAV4     5D RAV4 MPV 2.2 D-4D-ALA30L-AWFGYW-4X4/256\n",
       "8  Henkilö NISSAN     PRIMERA  4D PRIMERA 1.6I FANTASY-BAAP10/255        \n",
       "9  Henkilö HONDA      ACCORD   5D ACCORD TOURER 2.0-CM17/272             \n",
       "10 Henkilö NISSAN     ALMERA   4D ALMERA 1.6 HATCHBACK-FCAN15/254        \n",
       "11 Henkilö BMW        318      4D 318I SEDAN-VA51/276                    \n",
       "12 Maasto  HYUNDAI    SANTA FE 5D SANTA FE STW 2.4-S-81BP-4X4/262        \n",
       "13 Museo   FORD       CONSUL   4D CONSUL CORTINA 114E/2490-63            \n",
       "14 Henkilö RENAULT    MEGANE   5D MEGANE BREAK 1.6 16V-KM0C0H/269        \n",
       "15 Henkilö VOLKSWAGEN POLO     2D POLO HATCHBACK 1.9TDI-9N/245           \n",
       "16 Henkilö VOLVO      V70      5D V70 STW 2.4 D5 AUTOMATIC-SW7999-00/276 \n",
       "17 Henkilö VOLKSWAGEN POLO     4D POLO-CLASSIC-1.4-6K/244                \n",
       "18 Henkilö OPEL       ASTRA    5D ASTRA CARAVAN 2.0DT-TGF35/261          \n",
       "19 Henkilö OPEL       ASTRA    5D ASTRA CARAVAN 1.6-TGF35/261            \n",
       "20 Henkilö OPEL       OMEGA    5D OMEGA 2.0-GL-B-CARAVAN-21              \n",
       "   kori.orig  kori.est   kayttoonottoVuosi\n",
       "1  Farmari    Farmari    1997             \n",
       "2  NA         Viistoperä 1984             \n",
       "3  NA         Sedan      1990             \n",
       "4  Viistoperä Viistoperä 2003             \n",
       "5  Sedan      Sedan      2003             \n",
       "6  Farmari    Farmari    2006             \n",
       "7  Monikäyttö Monikäyttö 2007             \n",
       "8  NA         Sedan      1996             \n",
       "9  Monikäyttö Monikäyttö 2003             \n",
       "10 Viistoperä Viistoperä 2000             \n",
       "11 Sedan      Sedan      2005             \n",
       "12 NA         Monikäyttö 2001             \n",
       "13 NA         Sedan      1963             \n",
       "14 Farmari    Farmari    2003             \n",
       "15 NA         Viistoperä 2003             \n",
       "16 NA         Farmari    2004             \n",
       "17 Sedan      Sedan      1998             \n",
       "18 Farmari    Farmari    1999             \n",
       "19 Farmari    Farmari    1999             \n",
       "20 NA         Farmari    1996             "
      ]
     },
     "metadata": {},
     "output_type": "display_data"
    }
   ],
   "source": [
    "# Let's see \n",
    "select(autodata,ryhma,merkki,malli,mallimerkinta,kori.orig,kayttoonottoVuosi) %>% \n",
    "head(20)"
   ]
  },
  {
   "cell_type": "code",
   "execution_count": 9,
   "metadata": {
    "collapsed": false
   },
   "outputs": [
    {
     "data": {},
     "metadata": {},
     "output_type": "display_data"
    },
    {
     "data": {
      "image/png": "[encoded data removed]",
      "text/plain": [
       "plot without title"
      ]
     },
     "metadata": {},
     "output_type": "display_data"
    }
   ],
   "source": [
    "# Let's see the car type; there's plenty of missing data\n",
    "\n",
    "filter(autodata,kayttoonottoVuosi>1979) %>% \n",
    "count(.,kori.orig,kayttoonottoVuosi) %>% \n",
    "ggplot(.,aes(x=kayttoonottoVuosi,y=n,fill=kori.orig))+geom_bar(stat=\"identity\")\n",
    "\n",
    "# change the ... +geom_bar(stat=\"identity\") into +geom_bar(stat=\"identity\",position=\"fill\") \n",
    "# swithch kori.orig into kori (that contains a ready made prediction for missing)\n",
    "\n",
    "# Observations?"
   ]
  },
  {
   "cell_type": "code",
   "execution_count": null,
   "metadata": {
    "collapsed": false
   },
   "outputs": [],
   "source": [
    "\n",
    "# Let's demonstrate LASSO regulatized regression, cross-validation, and \n",
    "\n",
    "# X contains a sparse matrix where data \"merkki+mallimerkinta\" is divided by space and some punctuation \n",
    "# 5D PASSAT VARIANT 1.8 CL-351-C/263 => [5D, PASSAT, VARIANT, 1.8, CL, 351, C/263]\n",
    "# and one-hot-coded into a sparse matrix X and class vector c\n",
    "#\n",
    "# This has been done elsewhere, and rows with missing class kori.orig are omitted\n",
    "\n",
    "head(X)\n",
    "head(class)\n",
    "\n",
    "# lets make it a bit smaller, and take a 5% sample\n",
    "sample.idx<-seq(1, dim(X)[1], 20)\n",
    "select.vars<-colSums(X)>10\n",
    "\n",
    "dim(X)\n",
    "dim(X[sample.idx,select.vars])"
   ]
  },
  {
   "cell_type": "code",
   "execution_count": null,
   "metadata": {
    "collapsed": true
   },
   "outputs": [],
   "source": [
    "# Multinomial classification, ten folds, LASSO \n",
    "\n",
    "classifier <-cv.glmnet(X[sample.idx, select.vars],\n",
    "             as.factor(kori.class[sample.idx]),\n",
    "             type.measure=\"deviance\",\n",
    "             family=\"multinomial\",\n",
    "             alpha=1,\n",
    "             nfolds=10)\n"
   ]
  },
  {
   "cell_type": "code",
   "execution_count": null,
   "metadata": {
    "collapsed": false
   },
   "outputs": [],
   "source": [
    "# Lets see some statistics (deviation is not =classification error)\n",
    "plot(classifier)"
   ]
  },
  {
   "cell_type": "code",
   "execution_count": null,
   "metadata": {
    "collapsed": false
   },
   "outputs": [],
   "source": [
    "#Lets predict using the best model and see the accuracy!\n",
    "\n",
    "mean(kori.class == predict(classifier, X[,select.vars], type=\"class\"))*100"
   ]
  },
  {
   "cell_type": "code",
   "execution_count": null,
   "metadata": {
    "collapsed": false
   },
   "outputs": [],
   "source": [
    "# Let's see the confusion matrix!\n",
    "# kori.orig (true car type) is capitalized\n",
    "options(scipen=999)\n",
    "\n",
    "table(toupper(class), predict(lasso.model,X[,select.vars], type=\"class\")) %>% \n",
    "  prop.table(.,1) \n"
   ]
  },
  {
   "cell_type": "code",
   "execution_count": null,
   "metadata": {
    "collapsed": false
   },
   "outputs": [],
   "source": [
    "# Lets see the coefficients \n",
    "\n",
    "coef(lasso.model)$Sedan"
   ]
  },
  {
   "cell_type": "code",
   "execution_count": null,
   "metadata": {
    "collapsed": false,
    "scrolled": false
   },
   "outputs": [],
   "source": [
    "# Let's see this a bit better\n",
    "\n",
    "cf<-coef(lasso.model)$Farmari\n",
    "data.frame(attr=rownames(cf), coef=as.numeric(cf)) %>% \n",
    "arrange(-coef)"
   ]
  },
  {
   "cell_type": "code",
   "execution_count": 6,
   "metadata": {
    "collapsed": false
   },
   "outputs": [
    {
     "data": {
      "text/html": [
       "99.7643794691536"
      ],
      "text/latex": [
       "99.7643794691536"
      ],
      "text/markdown": [
       "99.7643794691536"
      ],
      "text/plain": [
       "[1] 99.76438"
      ]
     },
     "metadata": {},
     "output_type": "display_data"
    }
   ],
   "source": [
    "# For reference, there is a ready made \n",
    "# autodata contains a field kori.orig that is the original car type and \n",
    "# kori.est that has a prediction on the car type (sedan, wagon, ...)\n",
    "# It's made also using the brand and model information string, and a tree gradient boosted tree classifier (XGboost). \n",
    "\n",
    "# Prediction accuracy (percentage)\n",
    "mean(autodata$kori.est == autodata$kori.orig,na.rm=TRUE)*100"
   ]
  },
  {
   "cell_type": "code",
   "execution_count": null,
   "metadata": {
    "collapsed": true
   },
   "outputs": [],
   "source": []
  }
 ],
 "metadata": {
  "kernelspec": {
   "display_name": "R",
   "language": "R",
   "name": "ir"
  },
  "language_info": {
   "codemirror_mode": "r",
   "file_extension": ".r",
   "mimetype": "text/x-r-source",
   "name": "R",
   "pygments_lexer": "r",
   "version": "3.3.1"
  }
 },
 "nbformat": 4,
 "nbformat_minor": 2
}
