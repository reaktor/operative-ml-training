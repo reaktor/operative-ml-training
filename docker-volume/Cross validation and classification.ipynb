{
 "cells": [
  {
   "cell_type": "code",
   "execution_count": null,
   "metadata": {
    "collapsed": false
   },
   "outputs": [],
   "source": [
    "# Lets load some libraries and car data and precalculated features\n",
    "library(dplyr)\n",
    "library(ggplot2)\n",
    "library(glmnet)\n",
    "library(corrplot)\n",
    "\n",
    "load(\"data/trafi.RData\"); \n",
    "kori.class <- class"
   ]
  },
  {
   "cell_type": "code",
   "execution_count": null,
   "metadata": {
    "collapsed": false
   },
   "outputs": [],
   "source": [
    "# Let's see \n",
    "select(autodata,ryhma,merkki,malli,mallimerkinta,kori.orig,kayttoonottoVuosi) %>% \n",
    "head(20)"
   ]
  },
  {
   "cell_type": "code",
   "execution_count": null,
   "metadata": {
    "collapsed": false
   },
   "outputs": [],
   "source": [
    "# Let's see the car type; there's plenty of missing data\n",
    "\n",
    "filter(autodata,kayttoonottoVuosi>1979) %>% \n",
    "count(.,kori.orig,kayttoonottoVuosi) %>% \n",
    "ggplot(.,aes(x=kayttoonottoVuosi,y=n,fill=kori.orig))+geom_bar(stat=\"identity\")\n",
    "\n",
    "# change the ... +geom_bar(stat=\"identity\") into +geom_bar(stat=\"identity\",position=\"fill\") \n",
    "# swithch kori.orig into kori (that contains a ready made prediction for missing)\n",
    "\n",
    "# Observations?"
   ]
  },
  {
   "cell_type": "code",
   "execution_count": null,
   "metadata": {
    "collapsed": false
   },
   "outputs": [],
   "source": [
    "\n",
    "# Let's demonstrate LASSO regulatized regression, cross-validation, and \n",
    "\n",
    "# X contains a sparse matrix where data \"merkki+mallimerkinta\" is divided by space and some punctuation \n",
    "# 5D PASSAT VARIANT 1.8 CL-351-C/263 => [5D, PASSAT, VARIANT, 1.8, CL, 351, C/263]\n",
    "# and one-hot-coded into a sparse matrix X and class vector c\n",
    "#\n",
    "# This has been done elsewhere, and rows with missing class kori.orig are omitted\n",
    "\n",
    "head(X)\n",
    "head(class)\n",
    "\n",
    "# lets make it a bit smaller, and take a 5% sample\n",
    "sample.idx<-seq(1, dim(X)[1], 20)\n",
    "select.vars<-colSums(X)>10\n",
    "\n",
    "dim(X)\n",
    "dim(X[sample.idx,select.vars])"
   ]
  },
  {
   "cell_type": "code",
   "execution_count": null,
   "metadata": {
    "collapsed": true
   },
   "outputs": [],
   "source": [
    "# Multinomial classification, ten folds, LASSO \n",
    "\n",
    "# because we use L1 norm regularization (LASSO) (alpha=0), most coefficients  are pushed to zero.\n",
    "# You'll see this later\n",
    "# if you set alpha=1, you'll get Ridge reg. (and (almost) all coefficients usually have some other value than \n",
    "# exactly zero),  \n",
    "\n",
    "classifier <-cv.glmnet(X[sample.idx, select.vars],\n",
    "             as.factor(kori.class[sample.idx]),\n",
    "             type.measure=\"deviance\",\n",
    "             family=\"multinomial\",\n",
    "             alpha=1,\n",
    "             nfolds=10)\n"
   ]
  },
  {
   "cell_type": "code",
   "execution_count": null,
   "metadata": {
    "collapsed": false
   },
   "outputs": [],
   "source": [
    "# Lets see some statistics (deviation is not =classification error)\n",
    "plot(classifier)"
   ]
  },
  {
   "cell_type": "code",
   "execution_count": null,
   "metadata": {
    "collapsed": false
   },
   "outputs": [],
   "source": [
    "#Lets predict using the best model and see the accuracy!\n",
    "\n",
    "mean(kori.class == predict(classifier, X[,select.vars], type=\"class\"))*100\n"
   ]
  },
  {
   "cell_type": "code",
   "execution_count": null,
   "metadata": {
    "collapsed": false
   },
   "outputs": [],
   "source": [
    "# Let's see the confusion matrix!\n",
    "# kori.orig (true car type) is capitalized\n",
    "options(scipen=999)\n",
    "\n",
    "table(toupper(class), predict(classifier,X[,select.vars], type=\"class\")) %>% prop.table(.,2)\n"
   ]
  },
  {
   "cell_type": "code",
   "execution_count": null,
   "metadata": {
    "collapsed": false
   },
   "outputs": [],
   "source": [
    "# Lets see the coefficients \n",
    "\n",
    "coef(classifier)$Sedan"
   ]
  },
  {
   "cell_type": "code",
   "execution_count": null,
   "metadata": {
    "collapsed": false,
    "scrolled": false
   },
   "outputs": [],
   "source": [
    "# Let's see this a bit better\n",
    "# Change Sedan to another chassis if you wish to see other results\n",
    "\n",
    "\n",
    "cf<-coef(classifier)$Sedan\n",
    "data.frame(attr=rownames(cf), coef=as.numeric(cf)) %>% \n",
    "arrange(-coef)"
   ]
  },
  {
   "cell_type": "code",
   "execution_count": null,
   "metadata": {
    "collapsed": false
   },
   "outputs": [],
   "source": [
    "# For reference, there is a ready made \n",
    "# autodata contains a field kori.orig that is the original car type and \n",
    "# kori.est that has a prediction on the car type (sedan, wagon, ...)\n",
    "# It's made also using the brand and model information string, and a tree gradient boosted tree classifier (XGboost). \n",
    "\n",
    "# Prediction accuracy (percentage)\n",
    "mean(autodata$kori.est == autodata$kori.orig,na.rm=TRUE)*100"
   ]
  },
  {
   "cell_type": "code",
   "execution_count": null,
   "metadata": {
    "collapsed": false
   },
   "outputs": [],
   "source": []
  },
  {
   "cell_type": "code",
   "execution_count": null,
   "metadata": {
    "collapsed": true
   },
   "outputs": [],
   "source": []
  }
 ],
 "metadata": {
  "kernelspec": {
   "display_name": "R",
   "language": "R",
   "name": "ir"
  },
  "language_info": {
   "codemirror_mode": "r",
   "file_extension": ".r",
   "mimetype": "text/x-r-source",
   "name": "R",
   "pygments_lexer": "r",
   "version": "3.3.1"
  }
 },
 "nbformat": 4,
 "nbformat_minor": 2
}
