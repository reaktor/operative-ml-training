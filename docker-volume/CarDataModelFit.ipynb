{
 "cells": [
  {
   "cell_type": "markdown",
   "metadata": {},
   "source": [
    "## Setup and data read"
   ]
  },
  {
   "cell_type": "code",
   "execution_count": null,
   "metadata": {
    "collapsed": false
   },
   "outputs": [],
   "source": [
    "# Imports and parameter setting\n",
    "from pyspark.sql import SparkSession,  Row\n",
    "from matplotlib import pyplot as plt\n",
    "from sklearn.preprocessing import StandardScaler, Imputer\n",
    "from sklearn.linear_model import ElasticNet, ElasticNetCV\n",
    "import pandas as pd\n",
    "import numpy as np\n",
    "import cPickle as pickle\n",
    "\n",
    "pd.set_option(\"display.max_columns\", 100)\n",
    "\n",
    "inputPath = '/home/jovyan/work/data/autot4.7.csv'\n",
    "\n",
    "# Create a spark session\n",
    "session = SparkSession \\\n",
    "    .builder \\\n",
    "    .appName(\"Car data\") \\\n",
    "    .config('spark.driver.memory', '5G') \\\n",
    "    .config('spark.executor.memory', '5G') \\\n",
    "    .getOrCreate()\n",
    "    \n"
   ]
  },
  {
   "cell_type": "code",
   "execution_count": null,
   "metadata": {
    "collapsed": false
   },
   "outputs": [],
   "source": [
    "# Read input data into a spark data frame\n",
    "# remove . from column names\n",
    "inDf = session.read \\\n",
    "    .format(\"org.apache.spark.csv\") \\\n",
    "    .option(\"header\", \"true\") \\\n",
    "    .option(\"delimiter\", \";\") \\\n",
    "    .option(\"mode\", \"DROPMALFORMED\") \\\n",
    "    .csv(inputPath)\n",
    "    \n",
    "newColnames = [col.replace('.','_',5) for col in inDf.columns]\n",
    "inDf = inDf.toDF(*newColnames)"
   ]
  },
  {
   "cell_type": "code",
   "execution_count": null,
   "metadata": {
    "collapsed": false
   },
   "outputs": [],
   "source": [
    "inDf.printSchema()"
   ]
  },
  {
   "cell_type": "code",
   "execution_count": null,
   "metadata": {
    "collapsed": false
   },
   "outputs": [],
   "source": [
    "inDf.first().asDict()"
   ]
  },
  {
   "cell_type": "code",
   "execution_count": null,
   "metadata": {
    "collapsed": false
   },
   "outputs": [],
   "source": [
    "#Select a subset of columns and set their types \n",
    "carsDf = inDf.select(\n",
    "    'ajoneuvoluokka',\n",
    "    'ajoneuvonkaytto',\n",
    "    'korityyppi',\n",
    "    'ohjaamotyyppi',\n",
    "    'kayttovoima',\n",
    "    'istumapaikkojenLkm',\n",
    "    'sylintereidenLkm',\n",
    "    'vaihteisto',\n",
    "    'alue',\n",
    "    'kunta',\n",
    "    'merkki',\n",
    "    'malli',\n",
    "    'kayttoonotto_pvm_imputoitu',\n",
    "    inDf['omamassa'].cast(\"int\"),\n",
    "    inDf['iskutilavuus'].cast(\"int\"),\n",
    "    inDf['suurinNettoteho'].cast(\"int\"),\n",
    "    inDf['matkamittarilukema'].cast(\"int\"),\n",
    "    inDf['kayttoonottoVuosi'].cast(\"int\"),\n",
    "    inDf['ensirekVuosi'].cast(\"int\"),\n",
    "    inDf['ensirekisterointipvm'].cast(\"timestamp\"),\n",
    "    inDf['kayttoonottopvm'].cast(\"timestamp\"),\n",
    "    inDf['max_date'].cast(\"timestamp\"),\n",
    "    inDf['kayttoonotto'].cast(\"timestamp\")\n",
    ")\n",
    "# List of variables by types strings are called 'factors'\n",
    "factorVars = [\n",
    "    'ajoneuvoluokka',\n",
    "    'ajoneuvonkaytto',\n",
    "    'korityyppi',\n",
    "    'ohjaamotyyppi',\n",
    "    'kayttovoima',\n",
    "    'istumapaikkojenLkm',\n",
    "    'sylintereidenLkm',\n",
    "    'vaihteisto',\n",
    "    'alue',\n",
    "    'kunta',\n",
    "    'merkki',\n",
    "    'malli',\n",
    "    'kayttoonotto_pvm_imputoitu'\n",
    "]\n",
    "numericVars = [\n",
    "    'omamassa',\n",
    "    'iskutilavuus',\n",
    "    'suurinNettoteho',\n",
    "    'matkamittarilukema',\n",
    "    'kayttoonottoVuosi',\n",
    "    'ensirekVuosi'\n",
    "]\n",
    "dateVars = [\n",
    "    'ensirekisterointipvm',\n",
    "    'kayttoonottopvm',\n",
    "    'max_date',\n",
    "    'kayttoonotto'\n",
    "]\n"
   ]
  },
  {
   "cell_type": "code",
   "execution_count": null,
   "metadata": {
    "collapsed": false
   },
   "outputs": [],
   "source": [
    "carsDf.printSchema()"
   ]
  },
  {
   "cell_type": "code",
   "execution_count": null,
   "metadata": {
    "collapsed": false
   },
   "outputs": [],
   "source": [
    "carsDf.first().asDict()"
   ]
  },
  {
   "cell_type": "code",
   "execution_count": null,
   "metadata": {
    "collapsed": false
   },
   "outputs": [],
   "source": [
    "# We want to predict mileage (matkamittarilukema), filter to only possible values\n",
    "# Persist this set to memory\n",
    "carsDf = carsDf.filter(carsDf.matkamittarilukema.between(1, 1e6)).cache()"
   ]
  },
  {
   "cell_type": "code",
   "execution_count": null,
   "metadata": {
    "collapsed": false
   },
   "outputs": [],
   "source": [
    "# Calculate a new column from originals. This is probably relevant for milage\n",
    "carsDf = carsDf.withColumn(\n",
    "    'usageDays', \n",
    "    (carsDf['max_date'].cast('long')-carsDf['kayttoonottopvm'].cast('long'))/(24.0 * 3600.0)\n",
    ")\n",
    "numericVars.append('usageDays')"
   ]
  },
  {
   "cell_type": "markdown",
   "metadata": {},
   "source": [
    "## Exploration"
   ]
  },
  {
   "cell_type": "markdown",
   "metadata": {},
   "source": [
    "### pro-tip\n",
    "write ? after a function or method and run cell to see its documentation\n",
    "```python \n",
    "carsDf.sample?\n",
    "```\n",
    "    "
   ]
  },
  {
   "cell_type": "code",
   "execution_count": null,
   "metadata": {
    "collapsed": true
   },
   "outputs": [],
   "source": [
    "# take a sample into pandas data frame for plotting and stats\n",
    "sample = carsDf.sample(False, 0.005).toPandas()"
   ]
  },
  {
   "cell_type": "markdown",
   "metadata": {},
   "source": [
    "### Print samples & stats"
   ]
  },
  {
   "cell_type": "code",
   "execution_count": null,
   "metadata": {
    "collapsed": false
   },
   "outputs": [],
   "source": [
    "sample.head()"
   ]
  },
  {
   "cell_type": "code",
   "execution_count": null,
   "metadata": {
    "collapsed": false
   },
   "outputs": [],
   "source": [
    "sample.kayttoonotto.head()"
   ]
  },
  {
   "cell_type": "code",
   "execution_count": null,
   "metadata": {
    "collapsed": false
   },
   "outputs": [],
   "source": [
    "sample.describe(include=[np.number])"
   ]
  },
  {
   "cell_type": "code",
   "execution_count": null,
   "metadata": {
    "collapsed": false
   },
   "outputs": [],
   "source": [
    "sample.describe(include=[object])"
   ]
  },
  {
   "cell_type": "code",
   "execution_count": null,
   "metadata": {
    "collapsed": false
   },
   "outputs": [],
   "source": [
    "sample.describe(include=[np.datetime64])"
   ]
  },
  {
   "cell_type": "code",
   "execution_count": null,
   "metadata": {
    "collapsed": false
   },
   "outputs": [],
   "source": [
    "sample.groupby('ajoneuvonkaytto')['matkamittarilukema'].agg([np.median, np.mean, np.std])"
   ]
  },
  {
   "cell_type": "markdown",
   "metadata": {},
   "source": [
    "### Some plots"
   ]
  },
  {
   "cell_type": "code",
   "execution_count": null,
   "metadata": {
    "collapsed": false
   },
   "outputs": [],
   "source": [
    "for c in factorVars:\n",
    "    fig, axes = plt.subplots()\n",
    "    sample[c].value_counts().plot(ax=axes,kind='bar', alpha=0.7)\n",
    "    plt.suptitle(c)"
   ]
  },
  {
   "cell_type": "code",
   "execution_count": null,
   "metadata": {
    "collapsed": false
   },
   "outputs": [],
   "source": [
    "for c in numericVars:\n",
    "    fig, axes = plt.subplots()\n",
    "    sample[c].hist(ax=axes,alpha=0.7, bins=20)\n",
    "    plt.suptitle(c)"
   ]
  },
  {
   "cell_type": "code",
   "execution_count": null,
   "metadata": {
    "collapsed": false
   },
   "outputs": [],
   "source": [
    "for c in dateVars:\n",
    "    fig, axes = plt.subplots()\n",
    "    sample[c].hist(bins=100)\n",
    "    plt.suptitle(c)"
   ]
  },
  {
   "cell_type": "code",
   "execution_count": null,
   "metadata": {
    "collapsed": false
   },
   "outputs": [],
   "source": [
    "sample.plot.scatter(x='usageDays', y='matkamittarilukema')"
   ]
  },
  {
   "cell_type": "markdown",
   "metadata": {},
   "source": [
    "## Preprocess for modeling"
   ]
  },
  {
   "cell_type": "code",
   "execution_count": null,
   "metadata": {
    "collapsed": false,
    "scrolled": true
   },
   "outputs": [],
   "source": [
    "# split data into training (20%), validation (10%) and rest (70%) sets\n",
    "# numbers are chosen here for convenience, 20% of this set is enought to fit model\n",
    "splits = carsDf.randomSplit([0.2, 0.1, 0.7], 220274)"
   ]
  },
  {
   "cell_type": "code",
   "execution_count": null,
   "metadata": {
    "collapsed": false
   },
   "outputs": [],
   "source": [
    "# Get modelling data to pandas data frame\n",
    "modelDf = splits[0].toPandas()"
   ]
  },
  {
   "cell_type": "code",
   "execution_count": null,
   "metadata": {
    "collapsed": false
   },
   "outputs": [],
   "source": [
    "# numeric and factor type variables are treated differently\n",
    "\n",
    "# first pick numerical variables into training data\n",
    "trainDf = modelDf[numericVars]\n",
    "\n",
    "# remove target variable into separate vector\n",
    "target = trainDf.pop('matkamittarilukema')\n",
    "\n",
    "# numerical data has missing values, replace missing with average of that variable\n",
    "# Good idea: make additional variable for denoting that the value was missing\n",
    "imputer = Imputer()\n",
    "XImputed = imputer.fit_transform(trainDf)\n",
    "\n",
    "# scale numerical variables to zero mean and unit variance\n",
    "scaler = StandardScaler()\n",
    "XScaled = scaler.fit_transform(XImputed)\n",
    "\n",
    "# put model fitting data into pandas data frame\n",
    "X = pd.DataFrame(XScaled, columns=trainDf.columns)\n",
    "X.head()"
   ]
  },
  {
   "cell_type": "code",
   "execution_count": null,
   "metadata": {
    "collapsed": false
   },
   "outputs": [],
   "source": [
    "# factor variables are included through dummy variable encoding\n",
    "# here added only one such variable, 'ajoneuvonkaytto'\n",
    "tmp = pd.get_dummies(modelDf['ajoneuvonkaytto'], prefix='ajoneuvonkaytto')\n",
    "\n",
    "# add dummy variables to fitting data\n",
    "X[tmp.columns] = tmp\n",
    "\n",
    "X.head()"
   ]
  },
  {
   "cell_type": "markdown",
   "metadata": {},
   "source": [
    "### Model fitting\n",
    "Fit a linear model to the data. Fitting done with elastic-net algorithm\n",
    "http://scikit-learn.org/stable/modules/generated/sklearn.linear_model.ElasticNet.html#sklearn.linear_model.ElasticNet.fit"
   ]
  },
  {
   "cell_type": "code",
   "execution_count": null,
   "metadata": {
    "collapsed": false
   },
   "outputs": [],
   "source": [
    "# for now, just using the default parameters (usually not enough)\n",
    "enet = ElasticNet()\n",
    "enet.fit(X, target)\n",
    "\n",
    "# print results\n",
    "pd.Series(enet.coef_, index=X.columns)"
   ]
  },
  {
   "cell_type": "code",
   "execution_count": null,
   "metadata": {
    "collapsed": false
   },
   "outputs": [],
   "source": [
    "# Plot the prediction vs. true values\n",
    "plotDf = pd.DataFrame({'prediction': enet.predict(X), 'true_value': target})\n",
    "zz = np.array([0, plotDf.prediction.max()])\n",
    "#fig, axes = plt.subplots()\n",
    "plotDf.plot.scatter(x='prediction', y='true_value')\n",
    "plt.plot(zz, zz, 'r-')\n",
    "plt.show()"
   ]
  },
  {
   "cell_type": "markdown",
   "metadata": {},
   "source": [
    "### Save the fitted model and other relevant data"
   ]
  },
  {
   "cell_type": "code",
   "execution_count": null,
   "metadata": {
    "collapsed": false
   },
   "outputs": [],
   "source": [
    "pickle.dump(\n",
    "    {\n",
    "        'model': enet, \n",
    "        'scaler': scaler, \n",
    "        'imputer': imputer, \n",
    "        'trainColumns': X.columns,\n",
    "        'factorVars': factorVars,\n",
    "        'numericVars': numericVars,\n",
    "        'dateVars': dateVars\n",
    "    }, \n",
    "    open('enet.pyobj','wb')\n",
    ")"
   ]
  },
  {
   "cell_type": "code",
   "execution_count": null,
   "metadata": {
    "collapsed": true
   },
   "outputs": [],
   "source": []
  }
 ],
 "metadata": {
  "kernelspec": {
   "display_name": "Python 2",
   "language": "python",
   "name": "python2"
  },
  "language_info": {
   "codemirror_mode": {
    "name": "ipython",
    "version": 2
   },
   "file_extension": ".py",
   "mimetype": "text/x-python",
   "name": "python",
   "nbconvert_exporter": "python",
   "pygments_lexer": "ipython2",
   "version": "2.7.12"
  }
 },
 "nbformat": 4,
 "nbformat_minor": 2
}
