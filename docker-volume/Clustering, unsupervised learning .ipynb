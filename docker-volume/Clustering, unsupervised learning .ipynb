{
 "cells": [
  {
   "cell_type": "code",
   "execution_count": null,
   "metadata": {
    "collapsed": false
   },
   "outputs": [],
   "source": [
    "# remember to install some packages (see github repo readme!)\n",
    "\n",
    "# Lets load some libraries and car data and precalculated features\n",
    "library(dplyr)\n",
    "library(ggplot2)\n",
    "library(tidyr)\n",
    "library(corrplot)\n",
    "\n",
    "load(\"data/trafi.RData\")\n"
   ]
  },
  {
   "cell_type": "code",
   "execution_count": null,
   "metadata": {
    "collapsed": false,
    "scrolled": true
   },
   "outputs": [],
   "source": [
    "# Lets see data on car chassis type\n",
    "# kori.orig is the chassis in Trafi data, \n",
    "\n",
    "autodata %>% \n",
    "select(., ryhma, \n",
    "       merkki, \n",
    "       mallimerkinta, \n",
    "       kuntanimi, \n",
    "       kori, \n",
    "       omamassa, \n",
    "       iskutilavuus, \n",
    "       kayttoonottoVuosi,\n",
    "       matkamittarilukema) %>%\n",
    "head(15)\n",
    "\n"
   ]
  },
  {
   "cell_type": "code",
   "execution_count": null,
   "metadata": {
    "collapsed": false
   },
   "outputs": [],
   "source": [
    "# If we want to cluster the cars, what would happen if clustered by technical data (mass, kW, age, mileage)?\n",
    "# Instead of that, let's cluster brand according to county, this is kind of a social clustering...\n",
    "# Let's check the number of car brands\n",
    "\n",
    "autodata %>% group_by(merkki) %>% \n",
    "  summarise(n=n()) %>% \n",
    "  arrange(-n) %>% \n",
    "  mutate(k=row_number()) "
   ]
  },
  {
   "cell_type": "code",
   "execution_count": null,
   "metadata": {
    "collapsed": false,
    "scrolled": true
   },
   "outputs": [],
   "source": [
    "# Count brands on each commune; for practical (and statistical reasons we'll limit to common brands)\n",
    "# first we count number of N.merkki and change brans below the limit into \"other\"\n",
    "# then we count commune-brand combindations and spread the data \n",
    "\n",
    "kunnat.merkit <- autodata %>% \n",
    "  group_by(merkki) %>% \n",
    "  mutate(N.merkki=n()) %>%  \n",
    "  ungroup %>% \n",
    "  mutate(merkki = ifelse(N.merkki < 300, \"other\", merkki)) %>%\n",
    "  count(merkki, kuntanimi) \n",
    "\n",
    "merkki.profile <-\n",
    "  spread(kunnat.merkit, merkki, n, fill=0) \n"
   ]
  },
  {
   "cell_type": "code",
   "execution_count": null,
   "metadata": {
    "collapsed": false
   },
   "outputs": [],
   "source": [
    "# Let's check the data ...\n",
    "dim(merkki.profile)\n",
    "merkki.profile"
   ]
  },
  {
   "cell_type": "code",
   "execution_count": null,
   "metadata": {
    "collapsed": false,
    "scrolled": false
   },
   "outputs": [],
   "source": [
    "# Next we compute a distance (well, actually similarity between) the brand vectors by using \n",
    "# ordinary linear correlation [-1,1]\n",
    "\n",
    "cor.matrix <- select(merkki.profile, -kuntanimi) %>% \n",
    "  cor(.,use=\"na.or.\") \n"
   ]
  },
  {
   "cell_type": "code",
   "execution_count": null,
   "metadata": {
    "collapsed": false
   },
   "outputs": [],
   "source": [
    "# This shows the correlation matrix, first, with alphabetical, then we'll change it to hclust\n",
    "# check also hclust.method=\"single\" or \"complete\", (centroid, average, ... )\n",
    "# The matrix that is shown contais brand A to brand B similarities r(A,B)\n",
    "# r=1 Brands A,B appear in similar fashion in same communes as \n",
    "# r=0 no relation\n",
    "# -1  Brands A,B apprear in opposite fashion in communes (A high, B low and vice versa)\n",
    "\n",
    "# you can sho explict clusters by setting addrect= <num of cluser>\n",
    "\n",
    "corrplot(cor.matrix, order=\"hclust\", \n",
    "         hclust.method=\"ward.D\", \n",
    "         tl.cex=0.6,tl.col=\"black\", \n",
    "         method=\"shade\" #, \n",
    "                        #addrect=10\n",
    "        )"
   ]
  },
  {
   "cell_type": "code",
   "execution_count": null,
   "metadata": {
    "collapsed": false
   },
   "outputs": [],
   "source": [
    "# But why is everything blue\n",
    "# Number of cars in communes is different!!\n",
    "\n",
    "count(autodata,kuntanimi) %>% arrange(-n)"
   ]
  },
  {
   "cell_type": "code",
   "execution_count": null,
   "metadata": {
    "collapsed": false
   },
   "outputs": [],
   "source": [
    "# We'll rescale the data so that it reflects the differences of commune internal brand disrtribution (relative frequensices)\n",
    "#instead of raw frequencies (which are obviously correlated)\n",
    "# The relative freq. are on the same scale\n",
    "\n",
    "# N is the number of cars in  a commune:\n",
    "\n",
    "merkki.profile.norm <- merkki.profile\n",
    "merkki.profile.norm$N <-select(merkki.profile.norm, -kuntanimi) %>% rowSums\n",
    "merkki.profile.norm <- mutate_at(merkki.profile.norm, vars(-kuntanimi,-N), funs(./N))\n",
    "\n",
    "head(merkki.profile.norm,10)\n",
    "\n",
    "# now the vector shows the proportion of brand in a commune and is more comparable between big and small communes"
   ]
  },
  {
   "cell_type": "code",
   "execution_count": null,
   "metadata": {
    "collapsed": false
   },
   "outputs": [],
   "source": [
    "# Recompute correaltion, take all communes first\n",
    "\n",
    "# Some of the communes are really small, so they make noise to the results; set a higher limit to N to see \n",
    "# Maybe we should have a weighted / more statistically based model for this... \n",
    "\n",
    "cor.matrix <- \n",
    "  filter(merkki.profile.norm, N > 0) %>% # change the N>0 to N>1000 to get better results\n",
    "  select(-kuntanimi, -N) %>%\n",
    "  cor(., use=\"na.or.\") \n",
    "\n",
    "corrplot(cor.matrix, order=\"hclust\", \n",
    "         hclust.method=\"complete\", \n",
    "         tl.cex=0.6,tl.col=\"black\", \n",
    "         method=\"shade\" #,\n",
    "                        #addrect=10\n",
    "        )\n"
   ]
  },
  {
   "cell_type": "code",
   "execution_count": null,
   "metadata": {
    "collapsed": false
   },
   "outputs": [],
   "source": [
    "# Some of the communes are really small, so they make noise to the results; set a higher limit to N to see \n",
    "# Maybe we should have a weighted / more statistically based model for this... \n",
    "\n",
    "count(autodata,kuntanimi) %>% arrange(-n)\n",
    "\n",
    "# go back to previous one and change N to filter out \n",
    "# change also the cluster "
   ]
  },
  {
   "cell_type": "code",
   "execution_count": null,
   "metadata": {
    "collapsed": false
   },
   "outputs": [],
   "source": [
    "# Factoring... well sort of, well plot the brand correlation as a scatterplot \n",
    "# with a (non-linear distance preserving) T-SNE projection \n",
    "library(tsne)"
   ]
  },
  {
   "cell_type": "code",
   "execution_count": null,
   "metadata": {
    "collapsed": true
   },
   "outputs": [],
   "source": [
    "# Change the correlation (similarity) into a distance\n",
    "dist.cor <- as.dist(1-cor.matrix)"
   ]
  },
  {
   "cell_type": "code",
   "execution_count": null,
   "metadata": {
    "collapsed": false
   },
   "outputs": [],
   "source": [
    "# k sets the output dim (should be 2 here for plotting, bigger perplexity makes map moe global)\n",
    "# try perplexity 2...20\n",
    "\n",
    "X.cor<-tsne(dist.cor, \n",
    "            perplexity=10, \n",
    "            k=2, \n",
    "            whiten=TRUE, \n",
    "            max_iter=3000)"
   ]
  },
  {
   "cell_type": "code",
   "execution_count": null,
   "metadata": {
    "collapsed": false
   },
   "outputs": [],
   "source": [
    "D<-data.frame(merkki=rownames(cor.matrix),X.cor)"
   ]
  },
  {
   "cell_type": "code",
   "execution_count": null,
   "metadata": {
    "collapsed": false
   },
   "outputs": [],
   "source": [
    "ggplot(D,aes(x=X1,y=X2,label=merkki))+geom_point(size=1,color=\"yellow\")+geom_text(size=2)"
   ]
  },
  {
   "cell_type": "code",
   "execution_count": null,
   "metadata": {
    "collapsed": true
   },
   "outputs": [],
   "source": []
  }
 ],
 "metadata": {
  "kernelspec": {
   "display_name": "R",
   "language": "R",
   "name": "ir"
  },
  "language_info": {
   "codemirror_mode": "r",
   "file_extension": ".r",
   "mimetype": "text/x-r-source",
   "name": "R",
   "pygments_lexer": "r",
   "version": "3.3.1"
  }
 },
 "nbformat": 4,
 "nbformat_minor": 2
}
