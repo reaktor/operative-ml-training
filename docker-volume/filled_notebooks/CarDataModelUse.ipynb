{
 "cells": [
  {
   "cell_type": "code",
   "execution_count": 1,
   "metadata": {
    "collapsed": true
   },
   "outputs": [],
   "source": [
    "import cPickle as pickle\n",
    "import pandas as pd"
   ]
  },
  {
   "cell_type": "markdown",
   "metadata": {},
   "source": [
    "## Load fitted model and relevant other data"
   ]
  },
  {
   "cell_type": "code",
   "execution_count": 2,
   "metadata": {
    "collapsed": false
   },
   "outputs": [],
   "source": [
    "# read in fitted model and needed preprocessing data\n",
    "modelFname = 'enet.pyobj'\n",
    "dataFname = '/home/jovyan/work/data/autot4.7.csv'\n",
    "\n",
    "inputs = pickle.load(open(modelFname, 'rb'))\n",
    "model = inputs['model']\n",
    "imputer = inputs['imputer']\n",
    "scaler = inputs['scaler']\n",
    "trainColumns = inputs['trainColumns']\n",
    "factorVars = inputs['factorVars']\n",
    "numericVars= inputs['numericVars']\n",
    "dateVars = inputs['dateVars']\n",
    "\n",
    "# remove target variable from numeric variables\n",
    "numericVars.remove('matkamittarilukema')\n",
    "numericVars.remove('mileagePerDay')"
   ]
  },
  {
   "cell_type": "code",
   "execution_count": 3,
   "metadata": {
    "collapsed": true
   },
   "outputs": [],
   "source": [
    "# read some original data\n",
    "#data = pd.read_csv(dataFname, sep=';', nrows=10)\n",
    "#for col in ['ensirekisterointipvm', 'kayttoonottopvm', 'max_date', 'kayttoonotto']:\n",
    "#    data[col] = pd.to_datetime(data[col])    \n",
    "#data['usageDays'] = (data.max_date - data.kayttoonottopvm).map(lambda x: x.days)"
   ]
  },
  {
   "cell_type": "markdown",
   "metadata": {},
   "source": [
    "### Create test case data"
   ]
  },
  {
   "cell_type": "code",
   "execution_count": 4,
   "metadata": {
    "collapsed": false
   },
   "outputs": [
    {
     "data": {
      "text/plain": [
       "['ajoneuvoluokka',\n",
       " 'ajoneuvonkaytto',\n",
       " 'ajoneuvoryhma',\n",
       " 'korityyppi',\n",
       " 'ohjaamotyyppi',\n",
       " 'kayttovoima',\n",
       " 'istumapaikkojenLkm',\n",
       " 'sylintereidenLkm',\n",
       " 'vaihteisto',\n",
       " 'alue',\n",
       " 'kunta',\n",
       " 'merkki',\n",
       " 'malli',\n",
       " 'merkki_l_malli',\n",
       " 'kayttoonotto_pvm_imputoitu']"
      ]
     },
     "execution_count": 4,
     "metadata": {},
     "output_type": "execute_result"
    }
   ],
   "source": [
    "factorVars"
   ]
  },
  {
   "cell_type": "code",
   "execution_count": 5,
   "metadata": {
    "collapsed": false
   },
   "outputs": [
    {
     "data": {
      "text/plain": [
       "{'ensirekVuosi': 2001,\n",
       " 'iskutilavuus': 1900,\n",
       " 'istumapaikkojenLkm_NA': 1,\n",
       " 'kayttoonottoVuosi': 2010,\n",
       " 'kayttoonottopvm': '2010-06-15',\n",
       " 'kayttovoima_Bensiini': 1,\n",
       " 'korityyppi_NA': 1,\n",
       " 'max_date': '2016-09-30',\n",
       " 'ohjaamotyyppi_NA': 1,\n",
       " 'omamassa': 1340,\n",
       " 'suurinNettoteho': 193,\n",
       " 'usageDays': 2299}"
      ]
     },
     "execution_count": 5,
     "metadata": {},
     "output_type": "execute_result"
    }
   ],
   "source": [
    "# Create a test input for the model (same information as in original data)\n",
    "inputVector = {\n",
    "    'omamassa': 1340,\n",
    "    'iskutilavuus': 1900,\n",
    "    'suurinNettoteho': 193,\n",
    "    'kayttoonottoVuosi': 2010,\n",
    "    'ensirekVuosi': 2001,\n",
    "    'ajoneuvonkaytto': 'Yksityinen',\n",
    "    'max_date': '2016-09-30',\n",
    "    'kayttoonottopvm': '2010-06-15',\n",
    "    'ajoneuvoryhma': 'Maastoauto',\n",
    "    'kayttovoima': 'Bensiini',\n",
    "    'vaihteisto': 'Käsivalintainen'\n",
    "    \n",
    "}\n",
    "\n",
    "# Calculate same variables that were used in modeling\n",
    "inputVector['usageDays'] = (\n",
    "    pd.to_datetime(inputVector['max_date'])-pd.to_datetime(inputVector['kayttoonottopvm'])\n",
    ").days\n",
    "    \n",
    "# Encode factor variables as dummy variables\n",
    "for varName in factorVars:\n",
    "    dummyVariable = '{}_{}'.format(varName, inputVector.pop(varName, 'NA'))\n",
    "    if dummyVariable in trainColumns:\n",
    "        inputVector[dummyVariable] = 1\n",
    "inputVector"
   ]
  },
  {
   "cell_type": "markdown",
   "metadata": {},
   "source": [
    "### Preprocess input data same way as in model fitting phase"
   ]
  },
  {
   "cell_type": "code",
   "execution_count": 6,
   "metadata": {
    "collapsed": false
   },
   "outputs": [
    {
     "name": "stdout",
     "output_type": "stream",
     "text": [
      "omamassa                                                        1340.0\n",
      "iskutilavuus                                                    1900.0\n",
      "suurinNettoteho                                                  193.0\n",
      "kayttoonottoVuosi                                               2010.0\n",
      "ensirekVuosi                                                    2001.0\n",
      "usageDays                                                       2299.0\n",
      "ajoneuvoryhma_Matkailuauto                                         0.0\n",
      "ajoneuvoryhma_NA                                                   0.0\n",
      "kayttovoima_Bensiini                                               1.0\n",
      "kayttovoima_Bensiini/CNG                                           0.0\n",
      "kayttovoima_Bensiini/Etanoli                                       0.0\n",
      "kayttovoima_Bensiini/Sähkö                                         0.0\n",
      "kayttovoima_CNG                                                    0.0\n",
      "kayttovoima_Dieselöljy                                             0.0\n",
      "kayttovoima_Etanoli (E85)                                          0.0\n",
      "kayttovoima_Sähkö                                                  0.0\n",
      "vaihteisto_Automaattinen                                           0.0\n",
      "vaihteisto_Käsivalintainen                                         0.0\n",
      "vaihteisto_Käsivalintainen/automaattinen                           0.0\n",
      "vaihteisto_Portaaton                                               0.0\n",
      "istumapaikkojenLkm_1                                               0.0\n",
      "istumapaikkojenLkm_2                                               0.0\n",
      "istumapaikkojenLkm_3                                               0.0\n",
      "istumapaikkojenLkm_4                                               0.0\n",
      "istumapaikkojenLkm_5                                               0.0\n",
      "istumapaikkojenLkm_56                                              0.0\n",
      "istumapaikkojenLkm_6                                               0.0\n",
      "istumapaikkojenLkm_7                                               0.0\n",
      "istumapaikkojenLkm_8                                               0.0\n",
      "istumapaikkojenLkm_9                                               0.0\n",
      "istumapaikkojenLkm_NA                                              1.0\n",
      "ohjaamotyyppi_Avo-ohjaamo                                          0.0\n",
      "ohjaamotyyppi_Jatko-ohjaamo                                        0.0\n",
      "ohjaamotyyppi_NA                                                   1.0\n",
      "ohjaamotyyppi_Suojakehys                                           0.0\n",
      "ohjaamotyyppi_Umpiohjaamo                                          0.0\n",
      "korityyppi_AG Tavarafarmari                                        0.0\n",
      "korityyppi_Ambulanssi (SC)                                         0.0\n",
      "korityyppi_Avoauto (AE)                                            0.0\n",
      "korityyppi_Coupé (AD)                                              0.0\n",
      "korityyppi_Farmari (AC)                                            0.0\n",
      "korityyppi_Matkailuauto (SA)                                       0.0\n",
      "korityyppi_Monikäyttöajoneuvo (AF)                                 0.0\n",
      "korityyppi_Muut erikoiskäyttöön tarkoitetut ajoneuvot (SG)         0.0\n",
      "korityyppi_NA                                                      1.0\n",
      "korityyppi_Pyörätuolin käyttäjälle tarkoitettu ajoneuvo (SH)       0.0\n",
      "korityyppi_Sedan (AA)                                              0.0\n",
      "korityyppi_Umpi/avo                                                0.0\n",
      "korityyppi_Umpikorinen (BB)                                        0.0\n",
      "korityyppi_Viistoperä (AB)                                         0.0\n",
      "dtype: float64\n",
      "omamassa                                                       -0.209824\n",
      "iskutilavuus                                                    0.107955\n",
      "suurinNettoteho                                                 3.212952\n",
      "kayttoonottoVuosi                                               1.299478\n",
      "ensirekVuosi                                                   -0.557568\n",
      "usageDays                                                      -1.298227\n",
      "ajoneuvoryhma_Matkailuauto                                      0.000000\n",
      "ajoneuvoryhma_NA                                                0.000000\n",
      "kayttovoima_Bensiini                                            1.000000\n",
      "kayttovoima_Bensiini/CNG                                        0.000000\n",
      "kayttovoima_Bensiini/Etanoli                                    0.000000\n",
      "kayttovoima_Bensiini/Sähkö                                      0.000000\n",
      "kayttovoima_CNG                                                 0.000000\n",
      "kayttovoima_Dieselöljy                                          0.000000\n",
      "kayttovoima_Etanoli (E85)                                       0.000000\n",
      "kayttovoima_Sähkö                                               0.000000\n",
      "vaihteisto_Automaattinen                                        0.000000\n",
      "vaihteisto_Käsivalintainen                                      0.000000\n",
      "vaihteisto_Käsivalintainen/automaattinen                        0.000000\n",
      "vaihteisto_Portaaton                                            0.000000\n",
      "istumapaikkojenLkm_1                                            0.000000\n",
      "istumapaikkojenLkm_2                                            0.000000\n",
      "istumapaikkojenLkm_3                                            0.000000\n",
      "istumapaikkojenLkm_4                                            0.000000\n",
      "istumapaikkojenLkm_5                                            0.000000\n",
      "istumapaikkojenLkm_56                                           0.000000\n",
      "istumapaikkojenLkm_6                                            0.000000\n",
      "istumapaikkojenLkm_7                                            0.000000\n",
      "istumapaikkojenLkm_8                                            0.000000\n",
      "istumapaikkojenLkm_9                                            0.000000\n",
      "istumapaikkojenLkm_NA                                           1.000000\n",
      "ohjaamotyyppi_Avo-ohjaamo                                       0.000000\n",
      "ohjaamotyyppi_Jatko-ohjaamo                                     0.000000\n",
      "ohjaamotyyppi_NA                                                1.000000\n",
      "ohjaamotyyppi_Suojakehys                                        0.000000\n",
      "ohjaamotyyppi_Umpiohjaamo                                       0.000000\n",
      "korityyppi_AG Tavarafarmari                                     0.000000\n",
      "korityyppi_Ambulanssi (SC)                                      0.000000\n",
      "korityyppi_Avoauto (AE)                                         0.000000\n",
      "korityyppi_Coupé (AD)                                           0.000000\n",
      "korityyppi_Farmari (AC)                                         0.000000\n",
      "korityyppi_Matkailuauto (SA)                                    0.000000\n",
      "korityyppi_Monikäyttöajoneuvo (AF)                              0.000000\n",
      "korityyppi_Muut erikoiskäyttöön tarkoitetut ajoneuvot (SG)      0.000000\n",
      "korityyppi_NA                                                   1.000000\n",
      "korityyppi_Pyörätuolin käyttäjälle tarkoitettu ajoneuvo (SH)    0.000000\n",
      "korityyppi_Sedan (AA)                                           0.000000\n",
      "korityyppi_Umpi/avo                                             0.000000\n",
      "korityyppi_Umpikorinen (BB)                                     0.000000\n",
      "korityyppi_Viistoperä (AB)                                      0.000000\n",
      "dtype: float64\n"
     ]
    }
   ],
   "source": [
    "# Formulate input vector in same way as in model fitting.\n",
    "# Note that the variables must be in same order as in model fitting\n",
    "x = pd.Series(index=trainColumns)\n",
    "\n",
    "for v in trainColumns:\n",
    "    varName = v.split('_')[0]\n",
    "    # if factor type variable is not in input value should be 0\n",
    "    if varName in factorVars:\n",
    "        x[v] = inputVector.get(v, 0)\n",
    "    else:\n",
    "        x[v] = inputVector.get(v)\n",
    "print(x)\n",
    "\n",
    "# Impute missing values exactly same way as in model fitting\n",
    "# input vector to imputer must be numpy array (=> .values.reshape(1, -1))\n",
    "xtmp = imputer.transform(x[numericVars].values.reshape(1, -1))\n",
    "\n",
    "# Scale numeric variables exactly same way as in model fitting\n",
    "xtmp = scaler.transform(xtmp)\n",
    "\n",
    "# put imputed and scaled variables back to input vector\n",
    "x[inputs['numericVars']] = xtmp[0]\n",
    "print(x)"
   ]
  },
  {
   "cell_type": "markdown",
   "metadata": {},
   "source": [
    "### Make a prediction"
   ]
  },
  {
   "cell_type": "code",
   "execution_count": 8,
   "metadata": {
    "collapsed": false
   },
   "outputs": [
    {
     "data": {
      "text/plain": [
       "11.794925183007836"
      ]
     },
     "execution_count": 8,
     "metadata": {},
     "output_type": "execute_result"
    }
   ],
   "source": [
    "# Make prediction with the fitted model\n",
    "# input vector to imputer must be numpy array (=> .values.reshape(1, -1))\n",
    "model.predict(x.values.reshape(1, -1))[0]"
   ]
  }
 ],
 "metadata": {
  "kernelspec": {
   "display_name": "Python 2",
   "language": "python",
   "name": "python2"
  },
  "language_info": {
   "codemirror_mode": {
    "name": "ipython",
    "version": 2
   },
   "file_extension": ".py",
   "mimetype": "text/x-python",
   "name": "python",
   "nbconvert_exporter": "python",
   "pygments_lexer": "ipython2",
   "version": "2.7.12"
  }
 },
 "nbformat": 4,
 "nbformat_minor": 2
}
